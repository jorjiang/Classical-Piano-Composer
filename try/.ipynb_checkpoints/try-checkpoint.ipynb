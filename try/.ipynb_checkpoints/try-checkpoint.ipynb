{
 "cells": [
  {
   "cell_type": "code",
   "execution_count": 1,
   "metadata": {},
   "outputs": [],
   "source": [
    "import glob\n",
    "from tqdm import tqdm\n",
    "import pickle"
   ]
  },
  {
   "cell_type": "code",
   "execution_count": 2,
   "metadata": {},
   "outputs": [],
   "source": [
    "from music21 import converter, instrument, note, chord, stream\n",
    "import datetime"
   ]
  },
  {
   "cell_type": "code",
   "execution_count": 9,
   "metadata": {},
   "outputs": [
    {
     "data": {
      "text/plain": [
       "<music21.stream.Score 0x7f185d1aa2b0>"
      ]
     },
     "execution_count": 9,
     "metadata": {},
     "output_type": "execute_result"
    }
   ],
   "source": [
    "converter.parse('../mini_songs_int/the_internationale_pno.mid')"
   ]
  },
  {
   "cell_type": "code",
   "execution_count": 10,
   "metadata": {},
   "outputs": [],
   "source": [
    "s = instrument.partitionByInstrument(midi)"
   ]
  },
  {
   "cell_type": "code",
   "execution_count": 22,
   "metadata": {},
   "outputs": [
    {
     "data": {
      "text/plain": [
       "3512"
      ]
     },
     "execution_count": 22,
     "metadata": {},
     "output_type": "execute_result"
    }
   ],
   "source": [
    "len(s.parts[5].recurse())"
   ]
  },
  {
   "cell_type": "code",
   "execution_count": 34,
   "metadata": {},
   "outputs": [],
   "source": [
    "notes = []\n",
    "for element in notes_to_parse:\n",
    "    if isinstance(element, note.Note):\n",
    "        notes.append(str(element.pitch))\n",
    "    elif isinstance(element, chord.Chord):\n",
    "        notes.append('.'.join(str(n) for n in element.normalOrder))"
   ]
  },
  {
   "cell_type": "code",
   "execution_count": 6,
   "metadata": {},
   "outputs": [
    {
     "name": "stdout",
     "output_type": "stream",
     "text": [
      "Parsing ../midi_songs_bc/106.mid\n",
      "2827\n",
      "Parsing ../midi_songs_bc/cs6-3cou.mid\n",
      "1278\n",
      "Parsing ../midi_songs_bc/cs1-4sar.mid\n",
      "310\n",
      "Parsing ../midi_songs_bc/vs2-3and.mid\n",
      "784\n",
      "Parsing ../midi_songs_bc/bwv772.mid\n",
      "481\n",
      "Parsing ../midi_songs_bc/bwv867.mid\n",
      "909\n",
      "Parsing ../midi_songs_bc/vp2-2cou.mid\n",
      "858\n",
      "Parsing ../midi_songs_bc/bwv846.mid\n",
      "1176\n",
      "Parsing ../midi_songs_bc/vp3-5bou.mid\n",
      "550\n",
      "Parsing ../midi_songs_bc/bjss6l.mid\n",
      "2803\n",
      "Parsing ../midi_songs_bc/herzlieb.mid\n",
      "470\n",
      "Parsing ../midi_songs_bc/bwv816.mid\n",
      "3128\n",
      "Parsing ../midi_songs_bc/jsbtafc.mid\n",
      "5630\n",
      "Parsing ../midi_songs_bc/bjsbmm18.mid\n"
     ]
    },
    {
     "ename": "KeyboardInterrupt",
     "evalue": "",
     "output_type": "error",
     "traceback": [
      "\u001b[0;31m---------------------------------------------------------------------------\u001b[0m",
      "\u001b[0;31mAttributeError\u001b[0m                            Traceback (most recent call last)",
      "\u001b[0;32m<ipython-input-6-9ec9b909fef7>\u001b[0m in \u001b[0;36m<module>\u001b[0;34m\u001b[0m\n\u001b[1;32m     11\u001b[0m         \u001b[0ms2\u001b[0m \u001b[0;34m=\u001b[0m \u001b[0minstrument\u001b[0m\u001b[0;34m.\u001b[0m\u001b[0mpartitionByInstrument\u001b[0m\u001b[0;34m(\u001b[0m\u001b[0mmidi\u001b[0m\u001b[0;34m)\u001b[0m\u001b[0;34m\u001b[0m\u001b[0;34m\u001b[0m\u001b[0m\n\u001b[0;32m---> 12\u001b[0;31m         \u001b[0;32mif\u001b[0m \u001b[0mlen\u001b[0m\u001b[0;34m(\u001b[0m\u001b[0ms2\u001b[0m\u001b[0;34m.\u001b[0m\u001b[0mpartes\u001b[0m\u001b[0;34m)\u001b[0m \u001b[0;34m==\u001b[0m \u001b[0;36m1\u001b[0m\u001b[0;34m:\u001b[0m\u001b[0;34m\u001b[0m\u001b[0;34m\u001b[0m\u001b[0m\n\u001b[0m\u001b[1;32m     13\u001b[0m             \u001b[0mnotes_to_parse\u001b[0m \u001b[0;34m=\u001b[0m \u001b[0ms2\u001b[0m\u001b[0;34m.\u001b[0m\u001b[0mparts\u001b[0m\u001b[0;34m[\u001b[0m\u001b[0;36m0\u001b[0m\u001b[0;34m]\u001b[0m\u001b[0;34m.\u001b[0m\u001b[0mrecurse\u001b[0m\u001b[0;34m(\u001b[0m\u001b[0;34m)\u001b[0m\u001b[0;34m\u001b[0m\u001b[0;34m\u001b[0m\u001b[0m\n",
      "\u001b[0;31mAttributeError\u001b[0m: 'Score' object has no attribute 'partes'",
      "\nDuring handling of the above exception, another exception occurred:\n",
      "\u001b[0;31mKeyboardInterrupt\u001b[0m                         Traceback (most recent call last)",
      "\u001b[0;32m<ipython-input-6-9ec9b909fef7>\u001b[0m in \u001b[0;36m<module>\u001b[0;34m\u001b[0m\n\u001b[1;32m     13\u001b[0m             \u001b[0mnotes_to_parse\u001b[0m \u001b[0;34m=\u001b[0m \u001b[0ms2\u001b[0m\u001b[0;34m.\u001b[0m\u001b[0mparts\u001b[0m\u001b[0;34m[\u001b[0m\u001b[0;36m0\u001b[0m\u001b[0;34m]\u001b[0m\u001b[0;34m.\u001b[0m\u001b[0mrecurse\u001b[0m\u001b[0;34m(\u001b[0m\u001b[0;34m)\u001b[0m\u001b[0;34m\u001b[0m\u001b[0;34m\u001b[0m\u001b[0m\n\u001b[1;32m     14\u001b[0m     \u001b[0;32mexcept\u001b[0m\u001b[0;34m:\u001b[0m \u001b[0;31m# file has notes in a flat structure\u001b[0m\u001b[0;34m\u001b[0m\u001b[0;34m\u001b[0m\u001b[0m\n\u001b[0;32m---> 15\u001b[0;31m         \u001b[0mnotes_to_parse\u001b[0m \u001b[0;34m=\u001b[0m \u001b[0mmidi\u001b[0m\u001b[0;34m.\u001b[0m\u001b[0mflat\u001b[0m\u001b[0;34m.\u001b[0m\u001b[0mnotes\u001b[0m\u001b[0;34m\u001b[0m\u001b[0;34m\u001b[0m\u001b[0m\n\u001b[0m\u001b[1;32m     16\u001b[0m \u001b[0;34m\u001b[0m\u001b[0m\n\u001b[1;32m     17\u001b[0m     \u001b[0;32mfor\u001b[0m \u001b[0melement\u001b[0m \u001b[0;32min\u001b[0m \u001b[0mnotes_to_parse\u001b[0m\u001b[0;34m:\u001b[0m\u001b[0;34m\u001b[0m\u001b[0;34m\u001b[0m\u001b[0m\n",
      "\u001b[0;32m~/anaconda3/envs/dl/lib/python3.6/site-packages/music21/stream/__init__.py\u001b[0m in \u001b[0;36mflat\u001b[0;34m(self)\u001b[0m\n\u001b[1;32m   6764\u001b[0m         \u001b[0;32mif\u001b[0m \u001b[0;34m'flat'\u001b[0m \u001b[0;32mnot\u001b[0m \u001b[0;32min\u001b[0m \u001b[0mself\u001b[0m\u001b[0;34m.\u001b[0m\u001b[0m_cache\u001b[0m \u001b[0;32mor\u001b[0m \u001b[0mself\u001b[0m\u001b[0;34m.\u001b[0m\u001b[0m_cache\u001b[0m\u001b[0;34m[\u001b[0m\u001b[0;34m'flat'\u001b[0m\u001b[0;34m]\u001b[0m \u001b[0;32mis\u001b[0m \u001b[0;32mNone\u001b[0m\u001b[0;34m:\u001b[0m\u001b[0;34m\u001b[0m\u001b[0;34m\u001b[0m\u001b[0m\n\u001b[1;32m   6765\u001b[0m             self._cache['flat'] = self._getFlatOrSemiFlat(\n\u001b[0;32m-> 6766\u001b[0;31m                                   retainContainers=False)\n\u001b[0m\u001b[1;32m   6767\u001b[0m         \u001b[0;32mreturn\u001b[0m \u001b[0mself\u001b[0m\u001b[0;34m.\u001b[0m\u001b[0m_cache\u001b[0m\u001b[0;34m[\u001b[0m\u001b[0;34m'flat'\u001b[0m\u001b[0;34m]\u001b[0m\u001b[0;34m\u001b[0m\u001b[0;34m\u001b[0m\u001b[0m\n\u001b[1;32m   6768\u001b[0m \u001b[0;34m\u001b[0m\u001b[0m\n",
      "\u001b[0;32m~/anaconda3/envs/dl/lib/python3.6/site-packages/music21/stream/__init__.py\u001b[0m in \u001b[0;36m_getFlatOrSemiFlat\u001b[0;34m(self, retainContainers)\u001b[0m\n\u001b[1;32m   6610\u001b[0m             sNew.coreInsert(ri.currentHierarchyOffset(),\n\u001b[1;32m   6611\u001b[0m                              \u001b[0me\u001b[0m\u001b[0;34m,\u001b[0m\u001b[0;34m\u001b[0m\u001b[0;34m\u001b[0m\u001b[0m\n\u001b[0;32m-> 6612\u001b[0;31m                              setActiveSite=False)\n\u001b[0m\u001b[1;32m   6613\u001b[0m \u001b[0;34m\u001b[0m\u001b[0m\n\u001b[1;32m   6614\u001b[0m         \u001b[0msNew\u001b[0m\u001b[0;34m.\u001b[0m\u001b[0misFlat\u001b[0m \u001b[0;34m=\u001b[0m \u001b[0;32mTrue\u001b[0m\u001b[0;34m\u001b[0m\u001b[0;34m\u001b[0m\u001b[0m\n",
      "\u001b[0;32m~/anaconda3/envs/dl/lib/python3.6/site-packages/music21/stream/core.py\u001b[0m in \u001b[0;36mcoreInsert\u001b[0;34m(self, offset, element, ignoreSort, setActiveSite)\u001b[0m\n\u001b[1;32m     95\u001b[0m                             \u001b[0mstoreSorted\u001b[0m \u001b[0;34m=\u001b[0m \u001b[0;32mTrue\u001b[0m\u001b[0;34m\u001b[0m\u001b[0;34m\u001b[0m\u001b[0m\n\u001b[1;32m     96\u001b[0m \u001b[0;34m\u001b[0m\u001b[0m\n\u001b[0;32m---> 97\u001b[0;31m         \u001b[0mself\u001b[0m\u001b[0;34m.\u001b[0m\u001b[0msetElementOffset\u001b[0m\u001b[0;34m(\u001b[0m\u001b[0melement\u001b[0m\u001b[0;34m,\u001b[0m \u001b[0mfloat\u001b[0m\u001b[0;34m(\u001b[0m\u001b[0moffset\u001b[0m\u001b[0;34m)\u001b[0m\u001b[0;34m,\u001b[0m \u001b[0maddElement\u001b[0m\u001b[0;34m=\u001b[0m\u001b[0;32mTrue\u001b[0m\u001b[0;34m,\u001b[0m \u001b[0msetActiveSite\u001b[0m\u001b[0;34m=\u001b[0m\u001b[0msetActiveSite\u001b[0m\u001b[0;34m)\u001b[0m\u001b[0;34m\u001b[0m\u001b[0;34m\u001b[0m\u001b[0m\n\u001b[0m\u001b[1;32m     98\u001b[0m         \u001b[0melement\u001b[0m\u001b[0;34m.\u001b[0m\u001b[0msites\u001b[0m\u001b[0;34m.\u001b[0m\u001b[0madd\u001b[0m\u001b[0;34m(\u001b[0m\u001b[0mself\u001b[0m\u001b[0;34m)\u001b[0m\u001b[0;34m\u001b[0m\u001b[0;34m\u001b[0m\u001b[0m\n\u001b[1;32m     99\u001b[0m         \u001b[0;31m# need to explicitly set the activeSite of the element\u001b[0m\u001b[0;34m\u001b[0m\u001b[0;34m\u001b[0m\u001b[0;34m\u001b[0m\u001b[0m\n",
      "\u001b[0;32m~/anaconda3/envs/dl/lib/python3.6/site-packages/music21/stream/__init__.py\u001b[0m in \u001b[0;36msetElementOffset\u001b[0;34m(self, element, offset, addElement, setActiveSite)\u001b[0m\n\u001b[1;32m   1516\u001b[0m         '''\n\u001b[1;32m   1517\u001b[0m         \u001b[0;32mtry\u001b[0m\u001b[0;34m:\u001b[0m\u001b[0;34m\u001b[0m\u001b[0;34m\u001b[0m\u001b[0m\n\u001b[0;32m-> 1518\u001b[0;31m             \u001b[0moffset\u001b[0m \u001b[0;34m=\u001b[0m \u001b[0mopFrac\u001b[0m\u001b[0;34m(\u001b[0m\u001b[0moffset\u001b[0m\u001b[0;34m)\u001b[0m\u001b[0;34m\u001b[0m\u001b[0;34m\u001b[0m\u001b[0m\n\u001b[0m\u001b[1;32m   1519\u001b[0m         \u001b[0;32mexcept\u001b[0m \u001b[0mTypeError\u001b[0m\u001b[0;34m:\u001b[0m\u001b[0;34m\u001b[0m\u001b[0;34m\u001b[0m\u001b[0m\n\u001b[1;32m   1520\u001b[0m             \u001b[0;32mpass\u001b[0m\u001b[0;34m\u001b[0m\u001b[0;34m\u001b[0m\u001b[0m\n",
      "\u001b[0;32m~/anaconda3/envs/dl/lib/python3.6/site-packages/music21/common/numberTools.py\u001b[0m in \u001b[0;36mopFrac\u001b[0;34m(num)\u001b[0m\n\u001b[1;32m    285\u001b[0m         \u001b[0mir\u001b[0m \u001b[0;34m=\u001b[0m \u001b[0mnum\u001b[0m\u001b[0;34m.\u001b[0m\u001b[0mas_integer_ratio\u001b[0m\u001b[0;34m(\u001b[0m\u001b[0;34m)\u001b[0m\u001b[0;34m\u001b[0m\u001b[0;34m\u001b[0m\u001b[0m\n\u001b[1;32m    286\u001b[0m         \u001b[0;32mif\u001b[0m \u001b[0mir\u001b[0m\u001b[0;34m[\u001b[0m\u001b[0;36m1\u001b[0m\u001b[0;34m]\u001b[0m \u001b[0;34m>\u001b[0m \u001b[0mDENOM_LIMIT\u001b[0m\u001b[0;34m:\u001b[0m \u001b[0;31m# slightly faster[SIC!] than hardcoding 65535!\u001b[0m\u001b[0;34m\u001b[0m\u001b[0;34m\u001b[0m\u001b[0m\n\u001b[0;32m--> 287\u001b[0;31m             \u001b[0;32mreturn\u001b[0m \u001b[0mFraction\u001b[0m\u001b[0;34m(\u001b[0m\u001b[0;34m*\u001b[0m\u001b[0m_preFracLimitDenominator\u001b[0m\u001b[0;34m(\u001b[0m\u001b[0;34m*\u001b[0m\u001b[0mir\u001b[0m\u001b[0;34m)\u001b[0m\u001b[0;34m)\u001b[0m \u001b[0;31m# way faster!\u001b[0m\u001b[0;34m\u001b[0m\u001b[0;34m\u001b[0m\u001b[0m\n\u001b[0m\u001b[1;32m    288\u001b[0m             \u001b[0;31m#return Fraction(*ir).limit_denominator(DENOM_LIMIT) # *ir instead of float--can happen\u001b[0m\u001b[0;34m\u001b[0m\u001b[0;34m\u001b[0m\u001b[0;34m\u001b[0m\u001b[0m\n\u001b[1;32m    289\u001b[0m                 \u001b[0;31m# internally in Fraction constructor, but is twice as fast...\u001b[0m\u001b[0;34m\u001b[0m\u001b[0;34m\u001b[0m\u001b[0;34m\u001b[0m\u001b[0m\n",
      "\u001b[0;32m~/anaconda3/envs/dl/lib/python3.6/site-packages/music21/common/numberTools.py\u001b[0m in \u001b[0;36m_preFracLimitDenominator\u001b[0;34m(n, d)\u001b[0m\n\u001b[1;32m    206\u001b[0m         \u001b[0ma\u001b[0m \u001b[0;34m=\u001b[0m \u001b[0mn\u001b[0m \u001b[0;34m//\u001b[0m \u001b[0md\u001b[0m\u001b[0;34m\u001b[0m\u001b[0;34m\u001b[0m\u001b[0m\n\u001b[1;32m    207\u001b[0m         \u001b[0mq2\u001b[0m \u001b[0;34m=\u001b[0m \u001b[0mq0\u001b[0m \u001b[0;34m+\u001b[0m \u001b[0ma\u001b[0m \u001b[0;34m*\u001b[0m \u001b[0mq1\u001b[0m\u001b[0;34m\u001b[0m\u001b[0;34m\u001b[0m\u001b[0m\n\u001b[0;32m--> 208\u001b[0;31m         \u001b[0;32mif\u001b[0m \u001b[0mq2\u001b[0m \u001b[0;34m>\u001b[0m \u001b[0mDENOM_LIMIT\u001b[0m\u001b[0;34m:\u001b[0m\u001b[0;34m\u001b[0m\u001b[0;34m\u001b[0m\u001b[0m\n\u001b[0m\u001b[1;32m    209\u001b[0m             \u001b[0;32mbreak\u001b[0m\u001b[0;34m\u001b[0m\u001b[0;34m\u001b[0m\u001b[0m\n\u001b[1;32m    210\u001b[0m         \u001b[0mp0\u001b[0m\u001b[0;34m,\u001b[0m \u001b[0mq0\u001b[0m\u001b[0;34m,\u001b[0m \u001b[0mp1\u001b[0m\u001b[0;34m,\u001b[0m \u001b[0mq1\u001b[0m \u001b[0;34m=\u001b[0m \u001b[0mp1\u001b[0m\u001b[0;34m,\u001b[0m \u001b[0mq1\u001b[0m\u001b[0;34m,\u001b[0m \u001b[0mp0\u001b[0m \u001b[0;34m+\u001b[0m \u001b[0ma\u001b[0m \u001b[0;34m*\u001b[0m \u001b[0mp1\u001b[0m\u001b[0;34m,\u001b[0m \u001b[0mq2\u001b[0m\u001b[0;34m\u001b[0m\u001b[0;34m\u001b[0m\u001b[0m\n",
      "\u001b[0;31mKeyboardInterrupt\u001b[0m: "
     ]
    }
   ],
   "source": [
    "from music21 import converter, instrument, note, chord\n",
    "notes = []\n",
    "for file in glob.glob(\"../midi_songs_int/*.mid\"):\n",
    "    midi = converter.parse(file)\n",
    "\n",
    "    print(\"Parsing %s\" % file)\n",
    "\n",
    "    notes_to_parse = None\n",
    "\n",
    "    try: # file has instrument parts\n",
    "        s2 = instrument.partitionByInstrument(midi)\n",
    "        if len(s2.partes) == 1:\n",
    "            notes_to_parse = s2.parts[0].recurse()\n",
    "    except: # file has notes in a flat structure\n",
    "        notes_to_parse = midi.flat.notes\n",
    "\n",
    "    for element in notes_to_parse:\n",
    "        if isinstance(element, note.Note):\n",
    "            notes.append(str(element.pitch))\n",
    "        elif isinstance(element, chord.Chord):\n",
    "            notes.append('.'.join(str(n) for n in element.normalOrder))\n",
    "    print(len(notes_to_parse))"
   ]
  },
  {
   "cell_type": "code",
   "execution_count": 39,
   "metadata": {},
   "outputs": [],
   "source": [
    "with open('../data/notes_bach', 'wb') as filepath:\n",
    "    pickle.dump(notes, filepath)"
   ]
  },
  {
   "cell_type": "code",
   "execution_count": 13,
   "metadata": {},
   "outputs": [],
   "source": [
    "with open('data/training_data_bach', 'rb') as filepath:\n",
    "    y = pickle.load(filepath)"
   ]
  },
  {
   "cell_type": "code",
   "execution_count": 3,
   "metadata": {},
   "outputs": [],
   "source": [
    "import os"
   ]
  },
  {
   "cell_type": "code",
   "execution_count": 4,
   "metadata": {},
   "outputs": [],
   "source": [
    "os.chdir('/code/dl/Classical-Piano-Composer/')"
   ]
  },
  {
   "cell_type": "code",
   "execution_count": 108,
   "metadata": {},
   "outputs": [],
   "source": [
    "from predict import create_midi"
   ]
  },
  {
   "cell_type": "code",
   "execution_count": 14,
   "metadata": {},
   "outputs": [],
   "source": [
    "data = y['data']\n",
    "mb=y['binarizer']"
   ]
  },
  {
   "cell_type": "code",
   "execution_count": 17,
   "metadata": {},
   "outputs": [
    {
     "data": {
      "text/plain": [
       "(4403, 44)"
      ]
     },
     "execution_count": 17,
     "metadata": {},
     "output_type": "execute_result"
    }
   ],
   "source": [
    "data.shape"
   ]
  },
  {
   "cell_type": "code",
   "execution_count": 9,
   "metadata": {},
   "outputs": [],
   "source": [
    "def create_midi(prediction_output):\n",
    "    \"\"\" convert the output from the prediction to notes and create a midi file\n",
    "        from the notes \"\"\"\n",
    "    offset = 0\n",
    "    output_notes = []\n",
    "    prediction_output = mb.inverse_transform(prediction_output)\n",
    "    # create note and chord objects based on the values generated by the model\n",
    "    for pattern in prediction_output:\n",
    "        note = chord.Chord(pattern)\n",
    "        note.offset = offset\n",
    "        output_notes.append(note)\n",
    "\n",
    "        # increase offset each iteration so that notes do not stack\n",
    "        offset += 0.5\n",
    "\n",
    "    midi_stream = stream.Stream(output_notes)\n",
    "    filename = 'out_{}.mid'.format(datetime.datetime.today().strftime('%Y-%m-%d-%H-%M-%S'))\n",
    "    midi_stream.write('midi', fp=filename)"
   ]
  },
  {
   "cell_type": "code",
   "execution_count": 10,
   "metadata": {},
   "outputs": [],
   "source": [
    "create_midi(data[2000:2500])"
   ]
  },
  {
   "cell_type": "code",
   "execution_count": 111,
   "metadata": {},
   "outputs": [
    {
     "data": {
      "text/plain": [
       "47472"
      ]
     },
     "execution_count": 111,
     "metadata": {},
     "output_type": "execute_result"
    }
   ],
   "source": [
    "len(y)"
   ]
  },
  {
   "cell_type": "code",
   "execution_count": 112,
   "metadata": {},
   "outputs": [
    {
     "data": {
      "text/plain": [
       "3550"
      ]
     },
     "execution_count": 112,
     "metadata": {},
     "output_type": "execute_result"
    }
   ],
   "source": [
    "len(set(y))"
   ]
  },
  {
   "cell_type": "code",
   "execution_count": 113,
   "metadata": {},
   "outputs": [
    {
     "name": "stdout",
     "output_type": "stream",
     "text": [
      "{'F6', 'G4 A3', 'B4 G2 E4', 'C3 A3 A4', 'G4 E5 C6', 'G4 A2 C5', 'G#2 F3 C4', 'G3 B3 G5', 'B4 D4', 'B4 G4 F#4', 'A3 B2', 'G#3 B3 F4', 'D6 D4 A3', 'B4 D5 F4', 'D5 G3', 'B5 E4 G5', 'D3 C3', 'B4 G#2 D4', 'D4 B3 F3', 'A4 E5 F#4', 'D5 C4 C5', 'B3 F#5 F#4', 'G#3 C#4 C#5', 'F#4 A4 D3', 'F2 D4 A3', 'A4 E3 C3', 'A4 C#3 F#5', 'G4 C5 G5', 'B4 D4 F#4', 'D5 G2 F#4', 'E2 E5', 'G4 A3 E4', 'C4 E4 G#2', 'F3 F#4', 'C4 G3 C5', 'D3 D4 B5', 'G#4 F4', 'F3 A5 C6', 'F3 F5 D4', 'E3 E4 B2', 'D5 F4 G#3', 'C4 C5 A4', 'B4 G4 G5', 'B4 A4', 'G4 E4 G#5', 'F2 E5', 'D3 A5 A3', 'B4 C4 G3', 'F2 F5 C4', 'E5 G4 E3', 'C#4 A3 F#4', 'F4 B5', 'D5 F#2 F#4', 'B4 C#5 A5', 'G4 B5 G5', 'D5 A5 E2', 'G#4 G4 B1', 'C#4 B3 B2', 'E5 E4 C#4', 'B4 E4 C#3', 'E4 C5 A3', 'A4 C4 G5', 'E3 D3 F#4', 'A3 F4 D2', 'D5 C5 G#5', 'G4 B2 E3', 'D4 G#5 F4', 'D3 E4 G#5', 'B4 G4 A2', 'B4 B3 E2', 'D6 F#3', 'F5 B3 C#2', 'B3 C#3 A4', 'A4 B3 F#4', 'E5 G2 C#5', 'D3 F5 D5', 'F3 A5 F4', 'D2 C4', 'B4 G1 G3', 'G4 E5 D2', 'F#3 G#4', 'D4 E3 G#5', 'F2 D4 A4', 'C4 F2 A3', 'D6 A3 F#4', 'D3 G4', 'E5 C3 A3', 'D5 A5 F#4', 'A4', 'E4 A2 F4', 'D2 D4 F#4', 'C4 E4 E5', 'F5 C5', 'A4 F3 C5', 'F#4 E3 C#4', 'D3 F#3 G5', 'D5 F4', 'A2 A5 A3', 'D2 G3 F4', 'D2 D5 F5', 'D4 E5', 'E5 B3 E4', 'B2 F#4 B3', 'F3 C4 G#4', 'G4 F3 G#5', 'E4 C5 C1', 'A4 B2 F#5', 'B4 D5 G3', 'B4 F5 G3', 'G#3 B3 A4', 'G#4 F3 E3', 'G4 E3', 'D3 B3 F4', 'F5 G3 E4', 'D3 C6 G5', 'G4 E5 G3', 'G1 G5', 'D6 C5', 'G3 C#5', 'C4 F5 A2', 'F5 D4 A4', 'F#3 E4 C5', 'D6 A5 F4', 'B5 G#4', 'D6 G4 E3', 'G4 E4 A4', 'B2 G5', 'G#3 B3 E4', 'D2 G4', 'F#2 C#5', 'G#2 F5 C5', 'B3 C#3', 'G2 E6 G3', 'F#4 E3 A4', 'B4 A3 A2', 'G4 E4 G2', 'C4 A3 F4', 'C4 C6', 'C4 C3', 'F#4 A4', 'D5 F5 C5', 'B4 F#4 B2', 'C4 D4', 'F3 A5 G5', 'F#3 C#5 A5', 'F4 F2 F1', 'C#4 B3 F#4', 'D4 B2 F#4', 'C3 A5 F#5', 'G4 E6 E3', 'D6 G4 G2', 'C4 G#4 A4', 'B3 G#5 E2', 'G4 E2', 'C4 F2', 'E5 F5 G2', 'C4 A2', 'E4 C3 A3', 'G4 E3 A4', 'G4 B2 F4', 'G4 E3 B2', 'B3 A2', 'A5 E2', 'F5 D4', 'A2 F#4 C5', 'F#3 A5 C6', 'D3 B5', 'C2 E5', 'B4 B3 A3', 'G3 A3 A4', 'E4 A5', 'B4 G#4 G#5', 'C#4 F#3', 'G4 C3 B2', 'C#3 G5', 'B4 G2 E3', 'G4 E3 C6', 'D3 G3 D4', 'D5 F2 C5', 'D3 G#4', 'A1 A3 A2', 'B4 E3 B2', 'C5 G#4 C#3', 'F#3 D5 G3', 'B4 D3 C5', 'G1 F4', 'C6 A3', 'D5 F2 F5', 'B4 C#4 F#3', 'F5 F4 G#3', 'G#5 F4', 'B4 G#4 G5', 'D5 F#3', 'D4 G#4 B5', 'D5 G3 A3', 'C5 F#4', 'C#4 F#3 F#5', 'B4 G2 F4', 'F5 C3', 'C#4 F#3 A3', 'D6 G3 B3', 'B4 F#4 B5', 'G4 E4 E2', 'B3 D4 B5', 'F#2 C5 A5', 'C#4 B3 E4', 'G#4 B2 F4', 'A3 E4 C4', 'B4 C5 A3', 'B4 A2 C5', 'B4 G4 E3', 'G4 E5 C#4', 'A2 C6', 'F4 E4 C4', 'D5 G4 G5', 'G4 B5 C#3', 'E5 A3 F#4', 'C4 E3 G5', 'E3 C3 B2', 'B3 E4 G2', 'B4 G4 B2', 'D2 F4', 'E3 F#4', 'D3 E5 F5', 'E2 A5 C5', 'F#3 A5 A2', 'C#4 E4 D4', 'G3 C2', 'D3 C5 A4', 'G4 D4 F#5', 'C3 G#5', 'E5 A1', 'E3 G4 B3', 'C4 B3', 'B4 C#3 A4', 'G#4 F3 F4', 'E4 A2 A4', 'F5 A3 C4', 'G4 E1 E5', 'G#3 E4 D4', 'G#2 F5', 'E5 E4 A5', 'D5 F#2 D4', 'B4 B5 F4', 'G2 C5 A2', 'F4 F3 C4', 'A3 A2 A4', 'C4 F#3', 'A1 E5', 'E5 E4', 'D3 D4 A4', 'G4 B3 E5', 'F#1 C5 A3', 'D5 D3 F#5', 'B3 B2 A4', 'E4 A3 G5', 'G#2 E4 C4', 'E3 E3 A2', 'G#2 G2', 'B4 D5 B2', 'C4 E4 E3', 'G4 A3 F#4', 'E4 B2', 'E5 B2 E5', 'E6 C5', 'G#4 G#3 C#4', 'G3 A3', 'G6 G4 D3', 'C#4 B1 G5', 'D2 A3 F#4', 'B4 G4 G2', 'F5 G3 B3', 'F5 B3 D3', 'B5 G4 G5', 'D2 D3 F#5', 'C#5 A2 F#5', 'D5 G4 C#4', 'B4 G3 C6', 'B3 C#5 F4', 'D2 D4 A3', 'C#4 B5 C#3', 'B4 F5 D3', 'F#4 A4 D2', 'D5 D3 A4', 'A5 A2', 'D4 E4 G2', 'D5', 'C4 A2 E5', 'C2 B3', 'D5 G2 F4', 'C4 F3 G#5', 'D5 D3 F3', 'D3', 'A5 C#3 F#4', 'C4 A5 E3', 'B4 B2 E5', 'B5 E3', 'C#6 C#4 F#4', 'G4 C#5 E2', 'D2 D5 F#5', 'D4 G5', 'C#4 D4 C#5', 'G#2 D4 B3', 'C2 A3', 'D5 E5 C3', 'G2 C5', 'B4 G3 E5', 'A3 A4 F#3', 'B4 G#3', 'C#5 F3 C#3', 'C3 A3', 'C5 A2 F#4', 'A3 E5 F#4', 'G4 C3 E3', 'F#4 B5 F4', 'C4 C2 G#4', 'D3 F3', 'E3 G#4', 'G#3 G#4 F3', 'D4 B1 B2', 'D3 F5 D4', 'F5 G2 G5', 'B5 G#5 F4', 'C5 A1', 'C4 F3', 'D5 F#3 B2', 'B2 F4 B1', 'G#3 C4 G#2', 'C#5 E4 C#3', 'E5 F2 C5', 'D3 D4 F#5', 'B2 B3 D3', 'G#3 C5 E5', 'A3 E5 C4', 'F5 F3', 'G2 C#5', 'G4 G2 C5', 'A3 D2 D3', 'F#4 C6 A4', 'G4 F#4 A4', 'F#4 E4 C3', 'F5 A5', 'C#5 A3', 'B2 C5', 'E5 G#2', 'B2 F4 B3', 'G#3 B2 E5', 'F3 D5 A5', 'E5 G#4 B2', 'F2 F3', 'E3 C6 G5', 'D3 C#5 A3', 'D4 C#5 B2', 'G#3 D5 F1', 'C#4 E3 G#5', 'C#5 A2 F#4', 'D3 C#5 F#4', 'D5 G2 B5', 'B4 D4 G#4', 'B1 C#5 F#5', 'C#4 C#3 F4', 'B4 B3 D4', 'F5 F4', 'D5 C3 A3', 'G4 G2 C6', 'D6 C6 F#5', 'D4 F1', 'A2 A3 E4', 'B4 C4 E2', 'B4 D3 F3', 'E3 F#5 A4', 'D2 D3 F4', 'D3 F#3 A3', 'D5 G4 A4', 'F1 F3 G#5', 'C#3 E2', 'D5 F3 E5', 'F#3 B5', 'G#1 F3', 'D3 A4 F5', 'B4 G#2', 'G#2', 'G#3 B2', 'G3 F#5 A3', 'G#4 E5', 'C#4 F#4', 'G4 E4', 'G#3 G#4 C3', 'D4 B3 B2', 'D5 A4 D4', 'D4 F3 G5', 'B4 G1 E5', 'A4 E3 F#5', 'F3 F5 A5', 'E6 G3 C5', 'D5 A4 F4', 'D2 D3 D1', 'D3 F5 G2', 'G4 C3 G5', 'D2 E4', 'C5 A4', 'E4 C#3 A4', 'C#5 A3 F#4', 'D5 F6', 'D4 B3 G#5', 'C4 E4 C2', 'B4 D6 E3', 'C4 A5', 'F2 C5 A3', 'A2 E4 G5', 'D5 G3 B3', 'G4 C3 C4', 'A4 E5 C#3', 'C#4 F5 G#4', 'G3 G2 G5', 'B2 E5 F#5', 'G3 F5 B5', 'B4 F#3 G5', 'E2 C4 B5', 'G#4 G#3 F3', 'D4 B2 F4', 'B4 F5 C#5', 'E2 E3 B2', 'E4 E3 C3', 'G2 F#5', 'F#2 B3 F#5', 'G4 E6 C5', 'F5 F4 G#5', 'D3 B3 G#5', 'C#5 E4 F#4', 'G#3 E5 C#4', 'G#3 F3 G#4', 'D5 B3 B2', 'D3 C#5', 'E5 F#3 A3', 'A2 E4 C5', 'G2 A4', 'D2 C4 A4', 'D3 F5 G5', 'G3 B3 G2', 'G3 C6', 'D6 F#5', 'B4 G4 G1', 'E5 C5', 'D5 C3 F#4', 'G3 C5 E3', 'A3 A2 F4', 'B4 D4 B3', 'C4 D4 C3', 'G#3 G5', 'F#3 C3', 'G4 B1', 'G#2 C5', 'A2 F4', 'C4 B3 F#5', 'C4 A2 A3', 'D3 A3', 'B3 C#5 G5', 'G3 F5 E5', 'B4 G2 A3', 'D5 E5 A4', 'G#2 C4 F5', 'G#3 C4 G#4', 'F#2 C#4 B3', 'F#4 E3 B2', 'A4 D4 E4', 'F5 F3 C#3', 'D5 G4 C3', 'A4 E4 G5', 'E5 F#5', 'E5 G3 E3', 'D5 G4', 'B4 E6', 'G2 E4 B5', 'C4 F#3 A4', 'E5 F#3 A5', 'D5 G5', 'C3 A5 A3', 'G4 D4 B1', 'G#3 E3', 'B4 D4 A4', 'C3 A2', 'G4 G2 B3', 'D3 E5 G3', 'B2 D3 D4', 'D4 G3 B3', 'G#3 C#5 F3', 'A3 C#3', 'G#4 E5 F4', 'E4 C5 E3', 'A3 F#3 E5', 'D3 B3 F1', 'G#4 A4', 'B3 E4 G#5', 'B4 D3 F5', 'D3 G#4 B2', 'F#4 A3 A4', 'E3 F#4 C5', 'G4 E3 C5', 'D3 E5', 'B4 G#2 E3', 'G3 E3 C#5', 'G#3 E3 E4', 'B4 E4 E5', 'E4 G3 G2', 'F5 G3', 'C#4 F5', 'E5 F4 F3', 'D3 A3 F#5', 'F#4 E3 E2', 'D5 F#3 E3', 'F5 B3 C3', 'E4 C2 G5', 'C4 B2 F#4', 'G4 E4 G3', 'A4 G5', 'G3 E3', 'B3 G2 E4', 'E5 C#3 A4', 'D3 B1 B3', 'B3 F4 F#2', 'D3 D4 F#4', 'D3 G4 E5', 'B3 C3', 'E4 G2 G5', 'F3 C5 A4', 'B4 D5 G4', 'F#2 C5 A4', 'C3 A5 G5', 'E2 B5', 'D4 B2 G#5', 'F#3 D4 A3', 'C3 A2 F#4', 'E3 C5 A5', 'D5 D3 G5', 'B4 D6 G#4', 'C#4 E4 A4', 'F2 D4 G#4', 'B4 G1', 'C#4 B3 C#5', 'C#4 G#4 B2', 'B4 G4 E2', 'D2 D3', 'E6 C#5', 'G4 C#6', 'B4 F#3 C#5', 'D6 G4', 'D3 F#4 F#5', 'B4 E4 G5', 'E6', 'E5 C5 A3', 'D3 B2 G5', 'E4 G3 C4', 'F#3 F#5', 'E3 B3 F#5', 'G#3 D3 B3', 'F3 A3 F4', 'C4 F2 E5', 'D3 B3 F#4', 'E4 C6', 'G4 E5', 'B4 G3 D4', 'E2 G5', 'D1 B3 F3', 'D6 D5 F5', 'D5 G4 F4', 'F#4 E3 F#5', 'C#3 A4', 'A3 E4 E3', 'F4 D4 G#5', 'B4 D2 A4', 'D5 F#3 A3', 'E5 G2 B5', 'F5 G4 E4', 'G#3 F5 F3', 'A4 A5 F#5', 'B4 E4 E3', 'D5 A4 D3', 'B3', 'F5 E4 G2', 'F#3 E4 B3', 'E5 G3 B3', 'B4 B3 A2', 'F3 D6 D5', 'E5 C5 G5', 'E5 E3', 'D5 B3 F#3', 'B4 G3 B3', 'D6 F5 E4', 'C#5 B5', 'E3 B3 G5', 'D2 D4', 'D6 C5 C6', 'E4 E4', 'G4 F5 C5', 'G3 G2 B5', 'B4 E3', 'G#3 G#2 E4', 'G4 B2 E4', 'B4 G4 G3', 'E5 E4 A4', 'C#5 E2', 'E5 C5 F#5', 'F#3 A3 F#4', 'D3 F4', 'C4 C#3', 'D5 F5 D3', 'E4 C#3 F#5', 'D5 C5 A3', 'B4 B2 G5', 'D5 A3 F#4', 'F#3 E4 B2', 'F2 C4 A4', 'B1 F5 G3', 'B3 A5 B5', 'G#4 F4 B3', 'D5 E4 C5', 'G#3 F5 C3', 'B4 D6 G3', 'F#2 C5', 'F3 D3 D5', 'C5 C1', 'D5 G4 B1', 'D5 E5 C5', 'C#4 B2 F#5', 'F3 E5 B2', 'C4 E3 C1', 'D6 A2', 'C4 E4', 'G4 G1 C4', 'B4 G3 B5', 'D3 F#5 G5', 'G4 E4 C5', 'B4 C#4 E4', 'A5 F#5', 'F5 B3 A4', 'G4 C4 E2', 'C#4 G2 E3', 'F3 F#5', 'C6 B5', 'E5 F5', 'G#3 G#2', 'B4 D6 D3', 'C3 E3', 'D3 B3 B2', 'E3 F#3 C#5', 'G3 C#5 A3', 'F3', 'E5 B2', 'E5 C4 G5', 'A3 E3 E2', 'F#2 A3', 'A4 A2 F#5', 'B3 C5 F4', 'F#2 D4 A4', 'E3 E2 D2', 'F#3 C#5 A3', 'D5 D4 F3', 'E5 D4 C#4', 'C#6 G3 G5', 'B4 G#4 B2', 'F2 G#5', 'G#2 C2', 'G4 E3 C3', 'D6 F5 G2', 'B4 E4 C2', 'C3 E5 A4', 'D6 G4 G3', 'B4 E3 C5', 'G4 G2 F2', 'B4 G5 D3', 'F5 B2 A4', 'D2 G#3 F3', 'C#4 F#5', 'D4 B2 F#5', 'F3 F2 A5', 'E4 E4 F#5', 'B4 G4', 'F4 C5 A4', 'F#3 A2', 'G5', 'F3 E4 C5', 'G4 E4 G5', 'G4 C5 A2', 'A5 C#3 G5', 'C4 F3 A3', 'D5 B3 A5', 'G4 C5 C4', 'D5 F4 A4', 'B4 A5 B2', 'F#3 D4 A4', 'D3 A4 D4', 'E5 A5 C3', 'D3 B5 F#5', 'E3 F#5', 'B4 G2 G5', 'G#4 A5 A4', 'A2 C5 A3', 'A2 E4 A4', 'G6 C5 A4', 'B4 A3 F#3', 'C3 E5 A5', 'B4 D5 G#3', 'D5 F#3 C3', 'B3 C6', 'B2 C#3', 'B4 B3 F4', 'D5 C4 G#4', 'B4 G2 F5', 'D3 F#4 C#5', 'F#4 A5 G5', 'D5 G4 D3', 'F3 G#4 E5', 'C2 G#4', 'F#3 G4 D4', 'F1 G#5 F4', 'C#4 C#5 A3', 'F5 A5 C5', 'E4 B5 G#5', 'D5 B2 G#5', 'B3 E4 G5', 'F2 E4 C5', 'D3 D4 F4', 'E4 C2', 'E5 C5 C3', 'D3 C5', 'E6 G3 B4', 'B5 C5 G5', 'C4 F5 G#2', 'C4 F5 A3', 'G#3 C#5', 'D3 F#3 A4', 'C4 F2 F3', 'F2 B3 F3', 'E2 D4 E4', 'F5 D4 B2', 'D5 B2 A3', 'E5 C3 A2', 'D5 A2 A3', 'B4 E3 B3', 'D5 E5 F#3', 'G4 A5 E3', 'E2 C#3', 'F5 B2', 'A3', 'B3 A5 E5', 'G#2 E4 C6', 'G3 C#5 E4', 'C5 G#5 F4', 'F4', 'B3 A2 B2', 'G3 B5 F4', 'B1 D3 G4', 'E4 G2', 'G#4 G#3 C4', 'G4 C#4 B4', 'C5 E5 B2', 'D2 F#5 A4', 'E5 A2 C#3', 'B4 E5 G5', 'C4 E6 C5', 'D5 G#4 E2', 'G4 G3 D3', 'D3 B3', 'B4 D4 A2', 'A4 F#3 F#4', 'G#3 D4', 'C4 G#4 F4', 'C#4 G3', 'D3 G2', 'B5 D5 D2', 'B5 E4 E3', 'C4 B3 G#5', 'B4 C#4 C#3', 'D5 G3 F4', 'C3 B2 A3', 'C3 E5 G5', 'E4 A4 C#4', 'D4 A5 F6', 'E3 A3 F#4', 'G4 E5 B3', 'G#5 F5 C6', 'D4 B5', 'C#5 A3 F#5', 'E5 A3 A4', 'E5 C#5 E4', 'G4 E4 E5', 'G3 E3 E4', 'B4 D4 F3', 'D5 G5 D3', 'G3 E4 B5', 'G4 D4 G2', 'B4 D5 E3', 'G4 C#4 B1', 'B4 F#3 C5', 'F5 D4 F4', 'G#2 E4 E3', 'G#4 G#5', 'D2 C5 F#4', 'B3 F#4', 'F5 B3 C5', 'A5 G5', 'F5 B3 C#3', 'E4 D4 A3', 'E3 C#5 A2', 'F#2 E5', 'A2 B2 C5', 'C4 A5 E5', 'D5 F5 B3', 'D3 D4 C#5', 'F#4 C#5 G5', 'G#1 F4', 'B3 E4 A4', 'F3 E5', 'C#4 E3', 'D6 C5 G#5', 'B3 E3 E5', 'C#5 B2 A4', 'A4 F#4 F#5', 'G3 A3 F#4', 'D2 D5 D4', 'C2 G3 E4', 'A2 G5 A4', 'C#6 C#5 A3', 'B2 G3 B3', 'C#4 A1 A3', 'B1 G4 D4', 'C6 E3 A5', 'D5 B3 G5', 'G4 B3 F#4', 'F#4 C#4 F#3', 'F2 F5', 'G4 F#3 E3', 'G#4 C4 F3', 'D5 E4 A4', 'B3 E3 A3', 'E6 A3 A4', 'D5 C2', 'G4 A3 B5', 'D4 C5 A4', 'E3 C#5 A5', 'D5 F#1 A4', 'G1 E5', 'B4 D3 G#5', 'B4 C2', 'B4 G#3 E4', 'G4 C5 A3', 'G3 B5 C5', 'D3 G4 C3', 'D5 G3 B5', 'B4 G2 A4', 'D5 G3 D6', 'F5', 'D5 A2 F#5', 'B4 E3 G5', 'D6 A3 F4', 'E5 C4 F#4', 'F4 C5 D4', 'G#3 C#3 F4', 'G#4 G3 F2', 'B3 F4', 'D5 F#3 A4', 'D5 G2 G5', 'C5 A3 C3', 'C#4 E4 B2', 'C3 B2 G5', 'C3 G#5 F4', 'G#3 F5 D4', 'G3 F5 F3', 'C5 E2 A4', 'C5 G#5', 'B4 G2 G3', 'G2 G5', 'D5 F3 A3', 'F3 A5 A4', 'E5 F#3 C#4', 'D5 F4 C5', 'B2 B3 D4', 'C4 C5', 'F5 B5 B2', 'D6 E6', 'C#5 C#3', 'B2 E4 G5', 'E2 A3', 'G3 D4 F#5', 'B4 F#4 A3', 'D5 A2 F4', 'B4 F3 C5', 'D5 C#5 A2', 'F#5 C#3 A4', 'D4 E4', 'D5 F2 G#4', 'F5 F3 A4', 'D5 F#2 F#5', 'B4 G4 C5', 'A3 G4 C4', 'D5 F5 A4', 'C3 B5 E4', 'B4 C4 F3', 'D3 F5 A4', 'A5 B5', 'D5 C#4 B3', 'G3 B2 G5', 'C5', 'D3 G4 E4', 'D4 C3', 'B5 G5 C#4', 'B2 F4 B5', 'B4 F3 D4', 'C4 D4 C5', 'B4 B3 G5', 'G#3 G4 G#4', 'B4 F3 D2', 'D5 D4 A5', 'G#3 E4 F#5', 'C4 A2 G5', 'G4 F5 B5', 'B4 C5 F4', 'D3 D4 A3', 'F3 F5 C5', 'A3 C5 F3', 'C4 A5 A2', 'F#5 D3 A5', 'F#4 A5 C6', 'F4 G#3 D4', 'B4 D4 F#3', 'E3 C1', 'B3 G#4 B2', 'B4 G#4 E2', 'E4 C5 F4', 'C5 B2', 'E4 A4 E5', 'D4 G2 B5', 'B4 C#4 A4', 'E4 B5', 'G4 G2 G#4', 'E2 B3', 'D6 F5 E2', 'D5 F2 B3', 'G#3 F5 C6', 'F5 B3', 'G3 E4 E3', 'G3 G2', 'C#4 E3 B2', 'B3 E3 F#5', 'C#4 D4 F#5', 'B4 G3 F#3', 'D5 E5 B2', 'C4 F#4 C3', 'F#3 E4 F#5', 'B4 D4 B2', 'B4 F#2 G#3', 'F#4 C5 D2', 'B4 F5 B3', 'E5 C3 B2', 'F4 A3 A4', 'F#2 A4', 'E5 C3 G5', 'E4 E5 F#4', 'E3 C5', 'C3 E4 A5', 'G#2 E4', 'C4 F5 C5', 'B4 G3 A4', 'G2 A5', 'D5 G3 E3', 'E4 C5 F#5', 'C5 A4 G5', 'C4 A3', 'C4 D4 G#2', 'F4 C5 F1', 'C2 E4 G5', 'D5 E3', 'D3 F5 G#4', 'C4 A3 B5', 'F#4 F#5', 'G4 C4 G#4', 'E5 C6 A4', 'E5 C#5 A2', 'B5 A5 E5', 'B4 F#3 F#5', 'G5 F#5', 'C#3 A3 A4', 'D4 F#5 A4', 'D5 B2', 'B3 E5', 'B4 D4 E3', 'C4 G2 F3', 'D3 A4 F#4', 'D5 D3 C#5', 'C#5 E4 A3', 'G4 C#2 E5', 'E5 D4 B2', 'D2 A4 F#4', 'B4 C5 G5', 'B4 D5 F3', 'B4 D3 B3', 'G#4 C3', 'G4 B2 B3', 'B4 F#3 E3', 'D2 C#4 A4', 'C1', 'C#6 E3', 'B4 C#4 E2', 'G4 C2 C3', 'C4 E2 E5', 'D4 B3 G5', 'B3 B2 G5', 'D5 B3 F#4', 'C#5 A5 A2', 'B4 D5 B5', 'F#4 F4 A4', 'B4 D4 A3', 'G3 C3', 'B4 D3 B4', 'A3 A2 E4', 'B3 E4 F4', 'D4 B1', 'C#4 B3 F#5', 'B4 D5 G#2', 'D4 G3 E4', 'E3 G#4 C3', 'C3 F#5 A4', 'G#3 F2', 'B4 E5 C#4', 'D5 C5 A4', 'D5 F#2', 'C#4 E4 G2', 'G#2 F4', 'E3 A2', 'E4 B3 F#4', 'B4 D3 B2', 'G4 E6 A2', 'E5 C5 A2', 'D5 C#3 A4', 'C3 F#4', 'F5 G2 B3', 'C#4 C#3 A4', 'G3 C3 F#5', 'E5 A2 C4', 'F#4 A2 G5', 'D2 C5 F4', 'B3 D4 E4', 'B4 E5', 'E3 G5 B2', 'F5 D4 G#4', 'G4 E5 E2', 'D5 F5 F4', 'F#3 F#4', 'G#3 D5 E4', 'D3 C#3', 'D5 G4 G3', 'F#2 D4 A5', 'D3 C3 A4', 'E3 E4', 'C#4 E5 A5', 'D5 C#4 D4', 'B4 E4 A3', 'F#4 A4 F#2', 'A3 G5', 'D5 G4 D4', 'D4 B1 E3', 'F2 C5', 'D2 F#3 D4', 'C5 D3 A5', 'F2 A3 F4', 'B2 A3', 'G4 D2 D3', 'C4 E2 C5', 'B4 E4 G#5', 'D4 B3 A4', 'F#3 E5 A4', 'G3 F3 E5', 'G4 B3 C4', 'F3 C6 G#5', 'G4 E5 C5', 'B4 D3 F#4', 'E5 G3 G2', 'D3 A4 C5', 'G#4 G3 E2', 'C4 G#1 C5', 'F#2 E5 D4', 'D1 A3', 'D2 A5 F#4', 'D5 E5 F4', 'E5 C#4 G5', 'B4 F2 G#4', 'E2 E4 B3', 'G4 G3 G2', 'A3 F#3 B2', 'G#3 D4 F3', 'D6 G3', 'E2 A4', 'E3 G4 C#5', 'G#3 F5', 'C5 G5', 'F4 A4 D3', 'F4 G#5 D4', 'G#4 F#4', 'G3 E2 B2', 'B3 B5 B2', 'B4 D5 A3', 'B2 D4 B1', 'B4 A3 G5', 'F4 D2 D3', 'G3 G2 E5', 'D2 D5', 'G#4 C4 F5', 'D5 F3', 'G#3 C4 F#4', 'B4 D4 G5', 'D4 A5 F#5', 'B2 E3', 'C5 A3 F#5', 'B4 B3 F#5', 'G#4 G#3 F5', 'G3 E3 E2', 'E6 G5 C4', 'F#3 B3', 'G4 E2 B5', 'E4 A3 B5', 'C3 F4', 'E5 F3 A4', 'G4 B3 G5', 'B4 B3 F#4', 'E5 C#5 E2', 'B4 F#4 E3', 'G3 G4 D4', 'D5 D4 A4', 'F5 D4 A3', 'G4 E2 A3', 'E5 F#3 A4', 'C4 G3 A5', 'F5 B5', 'G2 C5 F4', 'G#1', 'C#5 A2 A4', 'D3 G#2', 'G3 C5 B2', 'C4 E3', 'B3 A3 G5', 'G3 C#5 A4', 'A3 E5', 'G#3 E4 E3', 'A3 C6 A4', 'G#2 G#5', 'F#2 C4 A4', 'G#3 F3 G#5', 'F#2 C4 A3', 'C4 G3 E1', 'B3 E4 A3', 'G4 C5 A4', 'D3 E5 B3', 'A4 D4 F#5', 'F#4 E3 B3', 'C5 G5 D3', 'B4 C4 D1', 'G4 A4 F#5', 'F#4 C#5 F#5', 'D2 B3 F4', 'B4 D2 F4', 'F#3 C#5', 'F3 F4', 'D5 G#4 B2', 'D5 F#3 B3', 'C#4 E5', 'D5 D4 D3', 'D4 C5 B2', 'B4 D3 E3', 'G2 B2 G5', 'A2 F#4 A4', 'G#2 E5', 'E4 F#3 B3', 'B3 F#4 B2', 'G4 D4', 'G3 A4', 'G4 C2', 'C4 F5 G#4', 'C5 A3 F#4', 'F#4 C6 D3', 'F#3 C5 A3', 'F3 A3', 'E3 A2 C#5', 'F#5 B2 G5', 'E3 E5', 'D5 E4 A2', 'D4 F5 B3', 'E3 E4 C#5', 'G4 C4', 'D4 A4', 'G#3 B3', 'D5 E5 C#5', 'A4 D3 F#3', 'E4 G5', 'E5 G3 C#3', 'F#2 D4 F#5', 'D6 D5 F4', 'F3 D5 B3', 'C4 A3 F#5', 'D5 B3 F4', 'G4 B5 C5', 'A4 C4 F#5', 'G#2 C5 F4', 'F5 B3 B5', 'C3 B2 C#3', 'B4 G4 A4', 'G4 A3 A4', 'C4 F2 E3', 'G2 A2 F#4', 'G#3 E5 C6', 'E4 E4 F#3', 'G4 A2 A4', 'F#4 A5 A3', 'B4 C5 C#3', 'G4 E4 B2', 'B4 B4', 'E3 C5 A4', 'F#2 E4', 'F5 E4 F4', 'D3 A5 F#5', 'F#3 B3 E5', 'E5 F#3 E3', 'C2 C3', 'B4 D5 G2', 'D5 B5 C5', 'F#2 G2', 'A3 F3 C6', 'G#3 D3 F4', 'F#4 G5', 'D3 B3 F#5', 'F2 F3 E5', 'B4 F#2 F#3', 'D2 E4 F#4', 'G2 E4 A4', 'G#3 E4 G#4', 'A3 E5 F#5', 'G3', 'G#3 D5 A3', 'F#1 D4 C5', 'E3 C5 B2', 'G3 E3 C5', 'E5 G3 B5', 'C#4 B2', 'G3 D4 A5', 'F#3 E3', 'D2 D3 F#3', 'F#2 F#3 B3', 'A4 E4 B2', 'D5 B3 A4', 'E3 C#5', 'G3 B3 F2', 'D5 E5 E4', 'E4 A5 A2', 'C#5 E4 A4', 'A5 C5', 'B2 F#4', 'D3 G4 D4', 'C#4 G#4', 'C3 E4 C5', 'G4 B3 F3', 'G3 E3 B5', 'F#2 A3 A4', 'C#4 E3 A3', 'D5 A4 G5', 'B4 C#4 A2', 'C4 E5', 'B3 C3 G5', 'E3 A3 G5', 'F3 G3 A5', 'G4 E4 F#4', 'F3 D5 F5', 'E5 D4 C4', 'D5 G1', 'F2 G#4 C5', 'B4 G4 C#4', 'E3 A3 A4', 'E5 E3 B2', 'F5 D4 G#2', 'C4 C5 A2', 'E4 B5 C5', 'F5 F4 B5', 'B4 E5 G#5', 'G4 C5 E3', 'D3 E5 G5', 'B3 F3', 'F4 F2 C4', 'D6 B5 E4', 'E5 E4 B3', 'C5 A4 C4', 'A3 C5 E5', 'G4 E6 G3', 'A2 A3', 'G3 A2 F#4', 'G#3 C5 G5', 'G3 C5 G5', 'D4 B2 A4', 'G#3 C5 G#5', 'G2 E3 G5', 'G4 E3 E5', 'E3 A2 A3', 'D4 B2 G5', 'C4 A3 G5', 'D2 F#3 C5', 'F#2 D4', 'G3 A3 F#5', 'D3 F2 F5', 'D5 F1', 'B4 C#4', 'G4 B3 E4', 'C4 F2 F1', 'B4 G3 C5', 'G#3 C4 F4', 'D5 E5', 'B3 E4 G#4', 'C4 D4 G#4', 'A4 C4 C3', 'C5 E3', 'E5 A2 A5', 'E3 A5 G5', 'E4 C2 C3', 'B1 B3', 'G4 B2 G5', 'G#3 D5 B3', 'B4 G3 C1', 'G4 E3 E4', 'D3 D4 F3', 'F2 B3', 'A5 A4', 'E3 C4 G2', 'C4 G#5 G5', 'A5 F4', 'E6 B4', 'D3 D4 B2', 'C4 C1 E5', 'D4 G#4 C#3', 'D5 B2 F4', 'D4 G2', 'D3 A5 F#2', 'E5 C2 C5', 'C5 A5 A3', 'A2 A4', 'B4 F2', 'D3 B5 F6', 'B5 A5', 'C4 E4 A3', 'D3 A4 F#5', 'C3 A5 A2', 'B4 D5 G#4', 'F5 C3 A3', 'B4 D5 F5', 'D4 B3', 'D4 F#5 G5', 'E6 E4', 'D5 G4 A3', 'G#4 C#5 F3', 'G3 E6 C5', 'B5 F4', 'C3 C5', 'D5 C#3', 'D3 F#5 A4', 'B3 B2 F#5', 'F5 G#1', 'G3 C3 E5', 'F2 F4 A4', 'D5 F2 F4', 'D3 E3', 'D3 G4 A4', 'G3 D4', 'D5 C3 B2', 'E5 E3 C5', 'B1 E4', 'D6 D5 B2', 'E5 C3 G#5', 'B1 D5 G3', 'C#4 B1', 'D6 G2 B5', 'G1 G3 B3', 'D5 F4 B5', 'C4 B1', 'A5 A3 C3', 'E5 E5', 'B4 D5 E5', 'B2 A4', 'F5 G#3 B3', 'A4 A3 F#5', 'G#4 D5 D4', 'E4 C3 A4', 'C2', 'A1 C5 A3', 'D5 E5 D3', 'E3 E5 F#4', 'F2 D4', 'D2 D4 C6', 'C#4 F5 C#3', 'A5', 'F#3 G3 D4', 'G#3 F1', 'B2 C6', 'C#4 A3 F4', 'D2 D5 F#4', 'G5 F#5 A2', 'C#4 C#5 A2', 'G#3 C2', 'G2 B3 E5', 'F5 F#4', 'B4 C#6 G3', 'A3 A4', 'F2 A4', 'G4 E5 C#3', 'D3 G#4 F4', 'F5 G#4 C#3', 'D2 D5 B5', 'G4 C5 E5', 'F2 G#4', 'D3 D4 E3', 'C#4 A5', 'D6 D4 B3', 'F#4 B2 A4', 'C4 F#5', 'G4 E1 G5', 'D5 D3 D4', 'B4 D3 G5', 'G4 G3 B1', 'G4 B5', 'D4 F3 B2', 'D5 D4 E4', 'C#5 B2 B2', 'D2 C5', 'G#4 G#3 C5', 'B4 E5 G3', 'D5 G4 E4', 'B4 F#2 C#5', 'G3 B5', 'D2 D3 G4', 'C5 F4', 'G4 B3', 'A4 F2 F4', 'C#4 G5', 'B4 G3 G2', 'E5 G#4', 'D2 G4 B3', 'G#3 G3 E3', 'F#4 A3 F#5', 'B4 F3', 'F5 B3 G#5', 'A5 E5', 'E4 G5 A4', 'B5 F#5', 'C4 E2', 'G2 B2', 'C4 E4 G5', 'E4 G#4 C3', 'F#2 F#3 C5', 'D2 D5 B3', 'E6 F4 C5', 'C4 E4 C3', 'G3 B3 B5', 'A4 C6 G5', 'G2 D4', 'E4 E3 C5', 'D5 A3 E5', 'D5 G#4 G#5', 'B4 F5 D4', 'G4 G#1', 'B4 B3 G#3', 'B1 G4', 'C#4 E3 A4', 'E5 C#3', 'D3 G4 F#4', 'C4 C3 E5', 'E5 B2 G5', 'D2 D4 E4', 'A5 C#3 F#5', 'D3 C4 A3', 'D5 E4', 'E6 E4 C5', 'C3 A3 F#4', 'B4 D3 G4', 'C5 A3 A4', 'D2 D3 D4', 'B2 E5', 'D4 C#5 F4', 'C#4 A2 A3', 'F#2 C#5 E4', 'F3 C5 G#5', 'B5 C6 A4', 'F1 G#5', 'D5 B1', 'C5 A2', 'G4 C4 F3', 'E5 B3 C6', 'B4 D5 F#4', 'B4 E5 C#3', 'C4 C3 A4', 'A3 D3 F#2', 'C#6 E4', 'C#5 A4', 'E3 C#5 G5', 'G4 F5 A2', 'A2', 'B4 B5 E3', 'G4 C3 E5', 'C#4 E4 A5', 'D3 F#3 E5', 'C3 C5 A4', 'B4 G#2 B3', 'D5 G4 F5', 'C#6 G3 E4', 'E5 C#5', 'D3 G1 B3', 'B3 F#3 B2', 'D6 F5 B2', 'F#3 E4 C3', 'A4 E3 A5', 'A5 A3 G5', 'D5 E2 F#4', 'D5 F#1 A3', 'G4 G2 E5', 'B4 D6 E5', 'G4 A2 F#4', 'G2', 'E5 A2', 'B4 E3 A4', 'E3 C#5 G#4', 'C4 A2 F#4', 'G4 E2 E3', 'F#4 C#3 A4', 'D5 D4', 'B2 A3 F#4', 'F5 D4 C5', 'C#4 E4 A2', 'B4 C4 E4', 'F#3 E3 B2', 'G4 F2 F3', 'E3 A2 F4', 'B4 G3 A3', 'D4 E2', 'E5 G3 F4', 'G4 C#3 B5', 'F2 C5 G#4', 'D5 G#2 D4', 'B4 E2', 'B4 F#3 C2', 'D3 C5 F#4', 'D5 F2 E5', 'G4 C#4 A2', 'D3 E5 G#4', 'F2 E4', 'G#5 C4 E5', 'C4 F#1 A4', 'D3 D5 A3', 'D5 F#3 D3', 'C#4 C#5 B2', 'C5 C3', 'F#4 E3 C5', 'D6', 'F5 B2 G5', 'B4 D6 F5', 'E4 A5 F#5', 'B4 E3 C#4', 'B5 C3', 'D6 D5', 'F#4 E4 F#2', 'B2 E5 F#4', 'B4 F#2 E4', 'B3 G#3 E4', 'C4 C3 C6', 'G#3 D5 B2', 'G#2 F5 G#4', 'B4 F#2 G5', 'G4 F3', 'B2 C#5 E4', 'D5 F4 F2', 'C2 E3', 'G#1 G#4 C6', 'G#2 B3', 'F5 C3 E5', 'E3 B3 C5', 'D3 B3 D5', 'B4 D3 G3', 'D4 F#4 A4', 'B3 E5 A4', 'C3 A3 F4', 'B2 A2 F#4', 'B4 E5 A4', 'E4 B2 G5', 'G4 E2 E5', 'D5 F5 G3', 'B4 G#4 F4', 'D3 C#4', 'A3 E4 A4', 'G4 E5 A3', 'E5 F#3 B5', 'C#4 A3 F#5', 'F#2 A5 A4', 'E6 C5 A2', 'D6 F4 D4', 'C#2 C#3', 'D5 C#4 F#3', 'G3 G5 F#5', 'D2 B3', 'D6 F5 C6', 'D5 E5 F#5', 'D3 A5 F#4', 'B4 D3 F#3', 'G#3 E5 E4', 'B5 F3', 'D4 A2 A3', 'G4 A5', 'C4 E4 A2', 'D2 D3 C4', 'D3 C5 F#5', 'B4 D6 E4', 'C#4 F3', 'F5 A1 A4', 'C3 E6 C5', 'G4 B2 A3', 'D3 A4 E3', 'G2 D4 B2', 'E4 F#3 C3', 'F#3 C5', 'G#3 G#2 F5', 'E5 C#4 G#2', 'B4 C#3 A3', 'B4 E5 C#5', 'C#3 E5 F#4', 'F2 F4', 'D4 A2 F#5', 'E5 A5 G5', 'F#2 G3 E5', 'G4 C4 E5', 'D4 C6', 'G4 C#5 E4', 'C4 E3 E5', 'B3 A4', 'B4 D4 B5', 'B4 C3', 'D3 D4 B3', 'E4 C2 E5', 'B4 B3 G#4', 'D2 D6 D4', 'G3 E1', 'D3 E5 C3', 'G2 C5 A4', 'E5 C#5 A4', 'G2 B3 E3', 'E4 G#4 B2', 'A3 F4 C#5', 'D5 D3 A3', 'G3 G5 B4', 'G4 E3 C#3', 'B5 E3 F#5', 'D5 D4 A2', 'G#4 F3', 'G#4 G5', 'G#4 C#4 F3', 'C4 E5 G5', 'C#4 C#5 F4', 'G4 E4 B3', 'D4 C5', 'F2 F3 A3', 'D4 A3 F4', 'A3 B5', 'F5 C5 A2', 'D5 E5 A3', 'E1 C4 E3', 'G#2 C4 F4', 'D3 C4 G2', 'G4 G3 A3', 'E6 B5', 'G#4 B3 F3', 'A4 F4', 'A4 A1 F#4', 'B4 A3', 'F3 A3 C5', 'E6 E4 B5', 'E4 F3', 'D4 G#4 A4', 'F#3 C3 A4', 'E5 G4 C3', 'E4 A4 C3', 'G2 C2 E3', 'A2 E5 C5', 'F3 D4 C3', 'C4 G3 E2', 'G#3 C2 F3', 'D5 F2 B5', 'B4 C#2', 'E3 E5 B5', 'C#5 B2 F#4', 'C5 A3 F6', 'B3 C#5', 'F3 G#5 C5', 'F#4 A5 C5', 'E4 A3 C#5', 'B4 E4 A5', 'B4 G4 C#5', 'B2 G#5', 'E2 C5', 'C#4 F1', 'G#4 B2 G3', 'C6', 'D3 F#4 A3', 'C#4 G6', 'C3 B2', 'E4 A5 B5', 'D6 D5 A3', 'C4 E6 B3', 'E6 G4 E2', 'E2 E5 G5', 'B4 G4 C4', 'G3 E4 G5', 'B1 D5 D4', 'B4 G3 E4', 'C3 C5 F#5', 'D2 F#4 A4', 'G2 B3 A2', 'F3 C5 A5', 'A3 F#4 C5', 'D3 B3 G5', 'C4 E3 F#5', 'F#3 A2 A4', 'C2 G4 E4', 'D3 G4 F5', 'E3 F#3 C5', 'C4 E4 G#4', 'C4 D4 E2', 'C#4 A3 G5', 'F5 E4', 'G2 B3 F3', 'D5 E3 G5', 'B3 E3', 'D5 G6 G3', 'C3 E5 C5', 'D6 D5 G3', 'B4 C#4 E3', 'G3 E5', 'D3 G3 G2', 'D5 G#4 E5', 'F5 C#5 A5', 'F#2 E5 A3', 'D5 F5 A3', 'C3 A5 F#4', 'C5 B5', 'G2 B3', 'G4 B1 B3', 'D6 D4 D5', 'E4 G5 C4', 'D2 A4 F#5', 'C#6 G3 E5', 'B4 E4 F#4', 'D5 C5 G5', 'F#2 D5', 'E5 A5 C6', 'C#4 E3 F#5', 'F2 C3', 'C4 A5 C3', 'D3 B3 A4', 'E3 F#4 A4', 'G4 E5 C3', 'B4 F#4 B4', 'G#2 C3', 'B4 F#2 G2', 'B4 E3 F#4', 'E3 B3 A3', 'C#4 D4 B3', 'E5 E4 G#5', 'A5 A3 B5', 'G#3 C5 F4', 'D5 E4 F#5', 'B4 C#4 F#4', 'B4 E5 E3', 'D5 D6 C6', 'B4 B5 A4', 'D3 B3 G#4', 'G2 G3 B3', 'G4 A2 C4', 'G3 E4 B2', 'F5 G#3 F#2', 'B3 E2', 'G4 A2 C#4', 'F5 D4 F3', 'D4 C#5', 'B4 E4 F#5', 'E3 C5 C6', 'C4 E4 B5', 'G4 G2 A4', 'A4 D4 F#4', 'D6 F5 A3', 'C#5 A3 A4', 'G4 B5 C6', 'D5 C5 F#5', 'G2 G3 E4', 'B4 E4 B3', 'D5 D3 B3', 'C4 F5', 'F5 C#3', 'G4 E4 E4', 'D5 E2 A4', 'D5 A4 D2', 'B4 E3 C#5', 'D5 C3 F#5', 'E4 A2', 'D3 F3 F4', 'D4 A5 B5', 'E5 G3 A3', 'E3 C1 C5', 'G#4', 'B4 D5 G#5', 'B4 F#2 C#4', 'E3 G#4 C#5', 'D3 A4 C3', 'D5 F5 C6', 'D5 A4 B3', 'G4 B5 E3', 'G4 E4 F2', 'E3 E2', 'B4 B3', 'D5 F#2 A3', 'A3 G2 E5', 'E4 C5 A2', 'B4 G#3 G#4', 'E3 C5 A2', 'F#2 D4 C5', 'D5 D4 G5', 'G2 G#4 G3', 'G4 E3 A3', 'C#4 F3 F4', 'G2 E3 C5', 'B1 B3 B2', 'E4 C5', 'E4 B3 B2', 'A3 F4 C5', 'C4 D4 F#4', 'B4 A2 A4', 'B4 C4 G#4', 'G#4 C4 E4', 'F#2 E4 A4', 'G4 D4 E5', 'C#4 B2 F#4', 'D4 F4', 'A4 C5 F#5', 'B3 E2 F#4', 'G3 C5', 'G4 B2 A4', 'G4 B3 E2', 'E5 B5 C#3', 'D5 D4 C3', 'E5 G3 C#5', 'B4 G5', 'G3 E4 A4', 'E2 G4 B5', 'G4 C#5 A2', 'D5 F5 A5', 'B4 F#3 E2', 'B1 E5 F4', 'E2 B3 F#4', 'E3 C3 A4', 'C#4 F3 G#5', 'F4 F5 F3', 'C6 F4', 'C3 B2 E5', 'C#4 E4', 'G#3 C4 F2', 'E3 E5 B3', 'B4 A3 F#4', 'A3 F#4 C4', 'G4 F#4', 'D3 F5', 'E5 C2 G#4', 'C5 E5', 'G3 F#5', 'B4 C#5', 'G#3 C4 E5', 'G#4 G3 D2', 'G4 E4 A2', 'E4 C5 G5', 'C4 E3 A4', 'F2 E4 G#4', 'D6 A4', 'F#3 E3 F#4', 'D5 G3 D4', 'D5 C#5 A3', 'D6 C4 E6', 'D3 F4 A4', 'B3 C#5 F#4', 'G2 E4 C5', 'G4 E3 G5', 'G2 G1 B3', 'A4 D4 C4', 'G#3 E2', 'G3 E4 F#4', 'E3 E4 C#3', 'C#3 F#5', 'G4 D4 G#4', 'F5 F1', 'G3 G#4', 'F#3 E4 G#4', 'G#3 E4 C3', 'G4 G2 G1', 'D5 F#4 C5', 'A2 E5', 'D5 G2 B2', 'C4 F4', 'D5 F#3 F#2', 'C4 E4 F4', 'B3 F#4 E4', 'C#4 A2 F#5', 'B4 D3 F4', 'F#2 C#4 F#4', 'A3 G3 E5', 'D5 G4 E5', 'G4 D5 E5', 'C2 G5', 'G2 C2', 'E3 D4 C#5', 'D3 C4', 'G#3 B4', 'E5 E3 A5', 'G4 B2', 'F5 A4', 'E4 B2 A4', 'F#3 A5 G5', 'F#5 G5', 'C4 G#4 C3', 'C#5 F3 B5', 'E3 E4 C5', 'B4 D3 D1', 'D3 D5', 'F5 B3 G#4', 'F#2 B3 C5', 'D5 D3 B5', 'C3 F3 G5', 'C#5 E4 G5', 'G#3 A3', 'G2 E4 A2', 'C#4 A2 A4', 'D2 E5 E4', 'B5 G4 G3', 'E5 B3 B2', 'F3 A5 C5', 'A5 B2', 'G#3 C6', 'E5 G2 B3', 'C#4 G#4 E5', 'F3 A5', 'G#2 D4 C5', 'G3 E4', 'C#2', 'A4 F#5', 'B4 G3 F4', 'G4 E4 E3', 'A3 E3 E4', 'F3 A1', 'D2 C4 F4', 'F3 C#5 B2', 'E4 D4', 'F4 F3 A4', 'G4 C4 E3', 'F3 C5', 'D5 G#4 B3', 'G#2 F3', 'D4 C5 F#4', 'B4 G2', 'B4 C#4 F3', 'D5 F5 G#4', 'E3 A3', 'G3 D4 A4', 'D5 D3 A5', 'B3 E4', 'A3 F1 F2', 'G4 B3 C#3', 'G#3 F2 C#5', 'C4 F5 G#1', 'G#4 E4 C5', 'C#5 A2 G5', 'C5 A4 D2', 'B4 B3 G3', 'D4 A5 G5', 'C#4 G3 B3', 'E1 G4 C3', 'A1', 'E4 B3 E3', 'B4 C4', 'F#3 C6', 'B2 A3 A4', 'G#3 D5', 'D5 G2 B3', 'A3 F4 C4', 'G#4 C#3', 'D5 B2 F#4', 'B4 C#4 D4', 'D5 E3 A4', 'F#2 F#4', 'D3 C3 F4', 'B4 G2 C5', 'A4 C#5 G5', 'C4 E4 G3', 'A2 A3 F#4', 'C4 G3', 'G4 A4 A5', 'F#3 G3 B5', 'C4 C2', 'D6 G4 B2', 'A3 F1 D3', 'F3 G#4 C3', 'D5 D4 F4', 'D5 A5 A3', 'D5 G4 F#4', 'C4 G#2', 'E3 B2', 'D5 G#2 F5', 'F#3 B2 F#4', 'G#4 F4 C4', 'F#5 F#4', 'G#3 E5 B2', 'E2 G4 E4', 'E6 C5 A4', 'G4 C4 B3', 'G3 B2', 'F#3 A4', 'E4 G#4', 'E4 E3 B2', 'G4 G1 B3', 'D3 E4 A5', 'C4 E3 G#5', 'C4 G#4', 'G#3 G#2 C6', 'F#3 A3', 'D4 F#4', 'E5 B3', 'B4 F#3 A5', 'G1 E3 G5', 'C#4', 'F5 B2 F4', 'G4 A2', 'E3 E4 A4', 'E4 B3', 'G4 E3 C4', 'D6 A4 C5', 'F#3 E3 B5', 'D5 F#2 A4', 'B4 C4 D4', 'E5 C#4 B2', 'D4 F#4 F#5', 'E5 A3 F#5', 'B4 E5 B2', 'B4 D5 C3', 'E4 C5 C#3', 'G3 E4 C#3', 'D4 B3 F#4', 'G#3 G#2 F3', 'E3 F4', 'D5 G3 C3', 'A2 A3 F4', 'D5 D3 B4', 'F#2 F#5', 'B3 G#5', 'D5 D4 G2', 'F#3 G3', 'B4 C#5 E4', 'B4 D5 C#5', 'G#2 D4', 'D4 G#5 G5', 'F2 G3 D4', 'D5 C#6 A2', 'F4 G#3 C5', 'E4 C5 C3', 'B4 G1 G4', 'A2 B2 F#4', 'G#3 F#3 C5', 'B3 A5', 'G#2 G#4', 'E3 C3', 'A5 A3', 'E2 B3 G5', 'F4 A4 D4', 'F3 G#5', 'E4 F1 A4', 'A3 A2 F#4', 'G#4 F2 F3', 'G#3 D4 F4', 'C#5 E4 A2', 'E4 E5', 'C4 F5 F2', 'C4 E3 A5', 'G4 F4', 'D6 B5', 'F5 A5 A3', 'G3 C5 F4', 'G4 G3 A4', 'F#4 A5 A4', 'D3 E5 E4', 'F#5 A4', 'C2 F4', 'C#5 A3 G5', 'G4 A2 B5', 'D6 G4 D5', 'E5 F5 A3', 'C#6 G3 C#5', 'F5 F4 D3', 'G#4 G5 D3', 'C4 G#1', 'F5 A3 D2', 'A3 E4 C5', 'D2 D3 F3', 'C4 A1 E5', 'D5 C#5 B2', 'B4 D4 C5', 'E2 G4 B3', 'E2 A3 F4', 'F5 A5 G5', 'F2 C#5', 'D4 C2', 'B2', 'G4 E2 F#4', 'G4 E4 G#2', 'D5 C4 F#4', 'E5 E4 G5', 'D5 F#4', 'F#3 D4 C5', 'G4 E3 C#4', 'D3 F3 A3', 'B3 C#4 D4', 'G#3 F5 C#5', 'E4 B3 A5', 'G3 E5 F#4', 'D3 E5 C#3', 'G2 G3 A2', 'F#3 C5 A4', 'F1', 'A4 C5 C6', 'B4 C#5 B2', 'D4 F3 B5', 'G3 G5 B5', 'F#5 C5 G5', 'D5 C4 B2', 'G4 C4 G2', 'F#2 E5 C#4', 'C4 E4 A5', 'E5 C#5 B2', 'B4 E5 F#5', 'B4 A5 G5', 'C2 E4', 'D5 C4 F#5', 'E3 C5 A3', 'D5 F#3 A5', 'G#4 A3 A4', 'F3 D4 A5', 'B4 F#3 B2', 'E5 G3 E4', 'E5 C3 A4', 'D6 F5', 'B3 E5 F#5', 'C4 G#4 E5', 'D2 E5 D4', 'C4 G3 E5', 'D5 A5', 'E3 B5', 'G3 E2', 'D3 C4 F#3', 'B4 F5 C#3', 'D6 D5 G6', 'B4 D5 C5', 'A3 F3 E5', 'B4 C3 C6', 'E3 F1', 'E5 E4 C3', 'D5 C5 E5', 'E4 C#3 G5', 'B2 F#5', 'B4 F#3', 'G4 A2 D4', 'D5 B3', 'G4 B2 C5', 'G2 C6', 'G4 E5 G5', 'A2 C#5 E4', 'E3 G3 B3', 'B4 C4 A4', 'B4 D3', 'A4 F#4', 'G4 E5 E5', 'A4 E3 F#4', 'E5 F5 E3', 'D2 F5', 'D3 B2', 'E5 C4', 'C4 G5', 'G#3 C4 E3', 'F4 F2 D4', 'C5 G5 F#5', 'C#5 F3', 'C#4 C#5', 'C4 E5 A4', 'F#3 A5', 'G3 B3 E5', 'C3 G#4 C5', 'C#4 E3 A5', 'G2 E5', 'G4 C#4 G5', 'C4 A5 A3', 'G3 E4 F4', 'D5 B3 F3', 'G3 D4 C5', 'D4 G#5', 'B4 G3 F#5', 'B4 G#3 D4', 'D6 G4 B3', 'E5 F#3', 'D3 D4 E4', 'B3 F#5', 'C4 A2 A4', 'E5 C#4', 'G4 E2 G5', 'G3 E3 G5', 'D2 F5 F4', 'B4 D5 E6', 'B4 D5 F#2', 'G3 F3', 'D5 B2 B5', 'E3 E5 C#5', 'F3 G#5 F4', 'B3 G#4 F4', 'C#4 F#4 C#5', 'G4 F#3 A4', 'D2 B2', 'B3 B5', 'A3 G5 A4', 'C4 C2 C5', 'C4 F3 A4', 'G3 A2', 'G#3 G#5', 'D2 G#4', 'C#2 F4', 'A2 C5 A4', 'G3 D4 G2', 'G4 F#3', 'D5 C4 F4', 'G4 C#5', 'G2 E4', 'B4 B3 C5', 'D5 G#4', 'B4 C4 F#3', 'D2 A3', 'D5 C#5', 'G#3 C4 F3', 'E5 G3', 'D5 G#4 F#4', 'F#3 C5 E5', 'G#3 D4 B2', 'C#6 C#3 A4', 'C2 G2 B3', 'G3 D4 C#3', 'G4 G3', 'G#1 C5 F4', 'C5 E2', 'D2 F#5', 'C4 E4 G#5', 'F4 C5 A3', 'E4 A3', 'D3 C#5 F#5', 'C4 G1', 'D6 F3', 'F5 G#4 F4', 'F5 A3', 'D4 E3', 'G4 E5 B2', 'F5 F4 D2', 'B4 D4 C3', 'D3 F#5', 'D5 E3 F4', 'B4 G#4', 'B3 A3', 'G#4 C4 C3', 'E4 F#4 A5', 'B4 F4 D2', 'D4 B5 G5', 'C#5 A2', 'D6 B3 D5', 'B4 A3 E4', 'G#3 C#5 F4', 'D6 G4 D3', 'D4 F#5', 'C#3 E3 A3', 'A2 E4 G3', 'D5 F#3 C5', 'G1 E3', 'G#2 E3', 'B5 C5', 'G3 E3 E5', 'D5 A5 A4', 'G3 C2 E3', 'D5 G1 B2', 'A5 F#4', 'B4 C4 B3', 'B4 F#2 A3', 'C#4 E4 A3', 'E3 B3 D5', 'F#4 E4 C#4', 'B4 B3 B2', 'F5 A2 A3', 'G#3 D5 F3', 'B4 F#4 F4', 'G#4 F4 G#3', 'B4 G2 B3', 'D4 E4 B3', 'F5 A2 A4', 'B4 D6 G4', 'G3 F#4', 'G3 E4 A3', 'D5 G3 G5', 'E3 E2 C5', 'E3 C#4 B5', 'G4 C4 C5', 'D6 G4 F5', 'B4 G3 E2', 'B4 B2 A4', 'F5 E5', 'D3 F4 C6', 'F#2 C4 A5', 'D3 E4', 'D4 B3 G#4', 'E5 G2', 'G4 F5', 'F#2 E3', 'G4 C#5 A3', 'B4 F4 A4', 'G4 B1 G5', 'B4 F4 G#5', 'G#3 C2 C5', 'B4 D3 D4', 'D5 D4 B3', 'C5 E3 A4', 'A4 F#3 F#5', 'D5 E2', 'F5 F4 A4', 'E3 B5 G5', 'C2 C5', 'E5 A3', 'B4 C#3', 'E5 F3', 'C4 E4 C6', 'C4 C1', 'G1 G2 B3', 'A4 F#3 E3', 'G4 E3 B5', 'C#4 F3 C#3', 'A4 A3 G5', 'E4 C1', 'F#3 E4 A5', 'G2 F4', 'A2 G5', 'C4 C2 F#5', 'D5 B2 C3', 'F5 A4 D3', 'E4 G#5', 'F5 E3 A5', 'G2 C#5 G5', 'G4 B3 C3', 'G5 F4', 'E5 E2 G5', 'C4 D4 E4', 'A3 F#3 A2', 'A3 F#4 D2', 'E4 E3', 'F3 C4 A5', 'C4 A3 A4', 'G2 F#4', 'D6 C6 G5', 'B3 F#3 E4', 'E4 C#3', 'F2 G3', 'G2 B3 E4', 'A1 A2 F4', 'B4 F#3 A3', 'C5 E5 A1', 'E5 C2 A3', 'D5 E5 D4', 'C4 G3 E3', 'D5 D4 B5', 'G#4 F3 F5', 'G4 E2 C4', 'D5 C4 B5', 'B4 G4 F5', 'G4 G1 E5', 'A5 C#3', 'A3 F#4 A2', 'D2 C5 F#5', 'E2 F4', 'G4 F#5 B2', 'B4 C4 C5', 'C4 A5 F#4', 'B4 A5', 'F#3 D4', 'C4 F#3 A5', 'C#4 E4 C#5', 'G#3 D5 F#3', 'G3 B2 C6', 'E2', 'D2 G5', 'B4 E5 C4', 'C4 F2 G#4', 'F2 D4 B3', 'C#4 A3 A4', 'G#3 E5 F4', 'C4 C5 E3', 'E4 C5 A4', 'G#2 C4 G5', 'C4 E2 G5', 'F3 G#2 B3', 'G2 A2', 'C4 D4 B2', 'B4 F#2 E5', 'D3 A4 A5', 'D5 D3 F#4', 'B5 C5 E5', 'B4 F#4 F#5', 'F#2 F#3 A4', 'C#4 F5 F3', 'C4 D4 E5', 'B4 G3 C3', 'D5 G#5 B5', 'G#3 F3', 'F#3 G5', 'G4 C4 C2', 'G2 E4 G5', 'A2 F#4 A3', 'F4 G#3 C4', 'F3 G#2 G#4', 'A3 F4 A4', 'A3 A5 C6', 'G4 G3 E2', 'G4 E5 E4', 'G4 D4 F#4', 'G#3 G#2 B4', 'B4 G2 E5', 'A3 A4 C4', 'D4 C5 A2', 'B4 D2', 'F3 D5 C5', 'D3 C3 A5', 'B4 E3 F#3', 'F2 C5 A4', 'D3 C4 D4', 'B4 E3 E5', 'D3 E5 C4', 'E3 G#5 D4', 'F#3 E4 B5', 'E4 C3', 'C#4 C#3', 'D4 A5 F#4', 'D3 F4 G5', 'D5 D4 F#4', 'F3 A2 A4', 'E5 C4 C6', 'B4 G3 D2', 'D6 D5 D3', 'D5 D6 F#4', 'C#4 D4', 'F#2', 'G1 G4 F5', 'B4 D1 F4', 'C4 E4 C5', 'D5 G4 B5', 'A3 F#4', 'C#4 C#5 E3', 'E5 E2', 'F#2 B3', 'G4 E5 F#3', 'A3 A2 C5', 'D4 E4 A2', 'C4 A5 F4', 'E4 G#4 G5', 'B4 D3 F2', 'F5 F4 B3', 'F#3 A5 C5', 'B4 C5 E2', 'G4 E2 C5', 'G#3 C3', 'B5 G#5', 'C5 A2 A4', 'C4 F3 F4', 'D4 C3 F#4', 'D5 G4 C4', 'F1 G#4 C6', 'E3 E4 C3', 'B3 G#4', 'G#3 E4 C5', 'B4 B3 C#5', 'E5 G3 G5', 'E4 C5 B2', 'D6 G3 F5', 'G#5 A4', 'A4 E4 A2', 'D3 D4 C5', 'B4 D4 F#5', 'B5 E3 G5', 'B4 E3 A3', 'D5 F#3 D4', 'D3 C#6 B5', 'B2 F4 D4', 'D5 C3 A4', 'B1 D5', 'G4 D4 B3', 'F#4', 'G#4 C5 C#3', 'B4 E3 E3', 'G#3 F3 C#3', 'G4 E4 C#4', 'B4 E3 D4', 'E5 C#5 F#4', 'E4 A5 C#3', 'F4 D4 A4', 'D3 E5 C#5', 'D4 G#4 F4', 'A3 C6', 'E2 C5 A3', 'C3 C5 E3', 'D6 F5 D3', 'E6 E3 C5', 'B3 E5 F#4', 'E3 G#4 F4', 'B2 A3 F4', 'D4 C4 G3', 'B4 B3 A4', 'B4 F5', 'D5 A3 F4', 'B4 D5 G5', 'E4', 'F#4 B5', 'B4 E5 G4', 'F#3 D5 E4', 'E3 G#5', 'B4 C#4 B3', 'D5 A3 A4', 'G#3 D2 F4', 'B4 D3 G1', 'G4 B3 F4', 'G4 D4 G5', 'C#4 A5 G5', 'B4 D4 G#5', 'D5 C4 D3', 'B4 F5 D2', 'G4 E4 B5', 'D4 A3', 'B1 D4', 'E2 G3 B3', 'F5 A3 C5', 'E3 F5 C5', 'F#3 D4 A5', 'C#5 E3 F4', 'A3 F4 F1', 'F3 C6', 'G1 G4 G3', 'D5 C#5 E3', 'B3 E4 C5', 'E4 C3 C5', 'D5 G5 A4', 'A3 E3 E5', 'A3 A2 C#6', 'G5 B5', 'D6 D5 G2', 'G1 A3', 'B4 D5 G1', 'G3 B3 C3', 'C#4 C#5 F3', 'D4 G5 F#5', 'E5 D4', 'F4 C4 A4', 'G4 D4 A4', 'E5 A2 A3', 'C3 A3 F#5', 'C#5 F4', 'G4 A5 F4', 'B4 G4 E4', 'D5 A3', 'C#5 E3', 'B1 D5 F4', 'D5 C5', 'E5 F#3 C5', 'D5 F4 B1', 'G3 B3 E4', 'F3 G5', 'E4 C3 B2', 'E5 C4 G#4', 'A3 C5 A2', 'A3 F5 C6', 'C#4 B5 A3', 'D4 G2 F4', 'D5 E5 B3', 'E4 C3 G5', 'G5 B3 B2', 'D2 F#3', 'E6 G3 G5', 'F5 A5 F4', 'E3 B3', 'B2 E4 B3', 'G1 D4 B2', 'D3 C4 B3', 'G2 A5 C5', 'D2 G#5', 'F3 B5 C5', 'B4 E5 G#4', 'B3 B2', 'D5 C3', 'B4 E5 F5', 'G#3 D3', 'G1 B3', 'D6 B3 F#4', 'D5 B3 D3', 'F#2 G#4 F#4', 'D2 G3', 'B4 G3', 'C4 C3 G#5', 'C5 A4 F3', 'C4 F#4', 'B5 C3 G5', 'C4 F2 A4', 'B4 A2', 'B3 E3 G5', 'G4 C5 C3', 'F4 G#3 C#4', 'F2 F5 A5', 'B4 D6 D5', 'B5 A5 G#5', 'B2 E5 C5', 'E4 F#4', 'D5 F5 A2', 'C#5 A5', 'B4 D5', 'E4 B2 F#4', 'D3 F3 G#5', 'C#5 F#4', 'E3 C5 C4', 'D5 F#3 A2', 'B4 C5 D2', 'E4 A5 C3', 'D5 C4 G2', 'G#4 F3 C5', 'B4 F4', 'F5 B5 C5', 'F#2 G#4', 'G4 E4 C3', 'G3 E6 C#5', 'A3 F#4 E4', 'B4 D4 G2', 'C3 C4 C5', 'C4 C5 C6', 'D3 E5 F#4', 'E3 F#5 G5', 'D3 A5 G5', 'B4 C#2 F3', 'D3 F5 G#5', 'D2 B3 F3', 'G4 C#3', 'B4 G4 D4', 'D5 A2', 'D5 A5 B5', 'F#3 A5 A3', 'C4 C3 A3', 'A2 F#4', 'G#4 D1 F3', 'B4 B5 G#5', 'D2 E5', 'B4 F#4 G3', 'E5 G3 C6', 'E5 A2 A4', 'A4 F2 F3', 'D5 F#4 F#3', 'D5 E4 B3', 'F3 A4', 'G4 C3 A4', 'D6 B3 F4', 'G4 F2', 'G3 D4 B3', 'E5 G4 C5', 'C4 B5 A5', 'F5 E3', 'C4 F#4 A4', 'D5 G4 G2', 'C4 F3 G5', 'A4 C4 F2', 'F#4 C3 B2', 'D2 B4', 'E5 B5', 'E5 G3 F#5', 'F3 F2 G#4', 'B4 B4 F4', 'B2 F4', 'B4 G#3 F4', 'G4 G3 E5', 'E4 A3 C#3', 'D5 A4', 'D5 F#3 E4', 'B4 F4 G#3', 'G4 C4 A4', 'E5 B3 G#2', 'B1', 'G#3 C4 E4', 'E5 F4', 'A3 C5 A4', 'D5 E5 F#4', 'C4 C5 E5', 'B4 E4', 'F#2 A2', 'D5 C#4', 'G4 C5', 'C6 A4', 'F4 F2 F3', 'E3 A5', 'D5 F3 F4', 'G#4 B5', 'E3 G#4 B2', 'G#4 F4 C5', 'B4 G#5 C#3', 'B3 C#5 E2', 'C4 G2', 'D2 A3 F#5', 'G4 C#4 E5', 'C3 A2 A4', 'F4 G3 E4', 'G#3 C#5 F1', 'D5 E5 E3', 'E4 E2', 'E4 B2 F#5', 'A3 F4', 'E3 B5 C5', 'B4 G3 C#5', 'D5 C4', 'F5 F3 G#5', 'D5 G4 B2', 'A5 A2 C5', 'G#4 B2', 'D5 G3 F5', 'G4 D4 E4', 'G#3 D4 E4', 'A3 E5 A5', 'E5 F#4 B2', 'C4 F1', 'D3 G2 B3', 'D2 E3', 'G4 G3 C4', 'G#4 F#4 A4', 'G#2 C#5', 'F5 A3 F#4', 'D3 E4 G#4', 'E3 F3', 'D3 B5 C3', 'F#3', 'D5 A4 C3', 'B4 D3 A4', 'E4 F#5', 'C4 C2 E5', 'B3 C5', 'D5 C#5 G#4', 'F4 G#3 F2', 'G4 G5', 'E3', 'F5 C#5 A2', 'B4 F2 D4', 'D3 C5 A2', 'C3 F#5 G5', 'A3 E4 C#5', 'D5 A2 G#4', 'D6 D4', 'F3 C#5 G#4', 'A3 C4 A2', 'E3 E5 F#5', 'F4 E4 C5', 'F#2 D4 A3', 'C5 G#4 F4', 'E5 G#5', 'D4 B3 G2', 'B4 F5 G#3', 'B4 E3 G#4', 'E5 C3', 'C4 D4 G3', 'E5 B5 C3', 'D3 E5 A4', 'C4 F3 A2', 'C4 G#5', 'A5 C#3 A4', 'D5 G4 B3', 'D6 F5 C3', 'B4 F#4 D3', 'C#4 D4 A5', 'G3 E4 E2', 'D2 F#4', 'D3 E4 C3', 'E3 E4 G#4', 'E5 E3 G#4', 'E5 G3 C3', 'D5 E5 G5', 'G4 E5 A2', 'D6 F4', 'D6 G5 A4', 'F#3 C5 A2', 'B4 B1 B2', 'G#4 F1', 'G#3 F#5', 'E3 G4 G3', 'G#2 C#4', 'G2 E3', 'D5 G4 G1', 'E3 G5 F#5', 'D3 A5', 'G3 C#5 C3', 'E5 C#5 C#4', 'F#3 E4 G2', 'B4 G#4 E3', 'C4 A4', 'B5', 'A3 D2 D1', 'F5 A1 A2', 'G#3 C#5 C#3', 'C4 C5 A3', 'D5 D3', 'E3 B3 E4', 'B3 G#5 G5', 'F3 F5 G#4', 'C3 B5', 'G#3 E5', 'D6 D5 G5', 'D4 C3 B2', 'C6 G5', 'G4 B3 D2', 'D3 A3 F#4', 'A3 E5 C5', 'G4 C4 C3', 'B4 D4 F4', 'G#3 F5 C#3', 'E5 A4', 'G4 G2 E4', 'G#1 F3 G#5', 'G#1 C3 F4', 'G4 G3 B2', 'B4 G#5', 'D5 C5 B2', 'E5 C5 C4', 'G4 B5 E4', 'D6 A5 C6', 'F#3 A3 A4', 'F2 C#4', 'F4 E4 E2', 'F2 C5 G#5', 'B4 G3 F3', 'F#2 E4 C#5', 'D3 G3 B3', 'D4 B3 F4', 'D3 A2', 'G#2 A4', 'E5 C#4 A2', 'B4 F5 F4', 'C3 B2 F4', 'D5 F2 D4', 'C2 C4 E4', 'D4 B1 F3', 'E5 D4 F#5', 'G4 B3 B2', 'F4 A4 F2', 'D5 F5 B5', 'B4 G2 D4', 'C4 B2', 'E5 B3 G#4', 'C#4 G3 E4', 'C#2 A4', 'D5 F5', 'E4 A2 F#4', 'G4 A3 A2', 'G#4 E3', 'G#4 C#3 F4', 'F#2 D4 G#5', 'G2 B5', 'D3 F3 C5', 'C#5 A3 F4', 'C3 F#5', 'B4 B2 F#4', 'G3 F#3', 'E5 E3 C3', 'C#3 F#4', 'D3 G#5', 'D3 F5 B3', 'C4 C2 A4', 'G4 C#4', 'C#6 B3', 'E4 E3 G5', 'F#2 C4', 'G4 E5 A4', 'G4 A3 C#3', 'B5 A5 A4', 'F4 A4', 'D5 F4 B3', 'G#3 C4 C5', 'F3 C5 A2', 'F5 G5', 'D5 C6', 'F4 A4 C4', 'D5 D4 B2', 'E4 E3 F#5', 'C#5 B2', 'E4 F4', 'G4 C#5 A5', 'B4 F#4 F#3', 'G4 E4 C2', 'C#5 G5', 'C5 E3 F#4', 'E5 G3 B2', 'G3 D4 C#4', 'A3 C5 F#2', 'F#3 E5 F#5', 'E4 G#4 C5', 'G3 F4', 'F#4 C3 A4', 'D2 C5 G5', 'E6 A3', 'E5 C2', 'B4 G3 G5', 'D2 A5', 'G4 G2', 'C#4 F4', 'D2 A4', 'E5 C4 A4', 'C4 E3 F#4', 'F3 C5 A3', 'G4 G6 E4', 'F#3 D4 D2', 'G3 C5 C3', 'B4 C5', 'E5 A2 B5', 'B4 G4 B4', 'D3 G4 B2', 'F#3 F#5 A4', 'C#4 E3 G5', 'D3 E3 A3', 'E3 A5 F4', 'C5 A2 F#5', 'D5 F#3 C#5', 'G3 E4 C6', 'C#5 G#4 E4', 'G#2 C4', 'E4 C#5', 'E5 F#3 B3', 'D3 F#4 A4', 'G#4 G3 F3', 'G1', 'C#5 G#4', 'C4 F#4 A2', 'B3 F5 E4', 'C3 A4', 'A1 A2 A3', 'F#4 C5 A4', 'D5 B3 E3', 'B4 D4 D2', 'C6 F#5', 'G#4 F5 F3', 'F5 B5 D3', 'D3 G5', 'C#4 B5', 'C#4 A3', 'C#4 B3', 'C2 E4 C5', 'F4 A5 B5', 'E3 C#3', 'G4 D4 E2', 'D5 G3 A4', 'E3 G5', 'C#4 C#5 G#4', 'G#1 C5', 'D5 C4 G3', 'B4 F#4', 'B4 C6 B5', 'B5 G5', 'G#3 C#3', 'A4 C3 F#5', 'G3 E4 A2', 'B3 C#5 B5', 'D3 E4 A3', 'G4 E5 C4', 'A2 B2', 'G#2 B3 E4', 'B4 C4 G2', 'G3 F5', 'F5 F4 C5', 'G4 G#4', 'C4 A2 F4', 'C2 E4 A3', 'F2', 'F5 G#5 C#3', 'D5 E4 C#4', 'B4 F#5', 'B4 A2 E5', 'A4 E3 C4', 'D6 D5 C6', 'D5 F#3 F#4', 'D3 C6', 'D3 A4', 'D6 F5 A5', 'C#4 E3 A2', 'D6 G4 D4', 'G3 E2 E3', 'C#4 A2', 'F#3 D3 D4', 'G3 E4 C3', 'B4 E5 G2', 'E4 C#2', 'B4 D3 E5', 'F#2 F#4 A4', 'D5 G3 G2', 'E5 A2 G5', 'G3 E4 B3', 'G#4 C5 E5', 'F#3 C#4 D4', 'B3 C5 E5', 'G4 G2 G3', 'C#4 G3 A3', 'G3 B3 C#5', 'A4 A5 C5', 'A5 E5 F#4', 'E5 A2 C#4', 'D5 C#5 E4', 'B4 G3 F5', 'D2 D4 C5', 'F5 G#4 C4', 'D5 E5 C4', 'G#4 F4 G#5', 'E2 F#5', 'B3 E4 C#5', 'G#4 C4 E3', 'D5 G3 E4', 'F#2 A5', 'F#3 E4 A4', 'G#2 F5 G#5', 'G#3 G#2 G#4', 'C6 F#4', 'C#4 E2', 'B4 C#4 C5', 'D5 B2 G5', 'G#3 F#2 B3', 'F#2 D4 G5', 'B4 F5 G2', 'F#3 F#4 A4', 'B1 E4 B3', 'B4 D4 E4', 'D4 A5 G#5', 'E5 C3 C4', 'C5 E5 C3', 'C5 A2 G5', 'C4 E4 A4', 'G3 D4 B2', 'F3 B2', 'B4 F6', 'G#4 G#3 E4', 'D5 D3 C5', 'G3 E4 A5', 'G#5 F3 C6', 'F5 C5 A3', 'B4 D6', 'G3 C#5 A5', 'B4 F2 E5', 'G#2 E4 B5', 'F3 F4 C5', 'D3 F#3 C5', 'D1 F3', 'D2 D4 B3', 'F3 C4 F5', 'D3 E4 C5', 'G#2 C5 E5', 'G4 A4 E5', 'A4 F5 G5', 'A5 E3', 'G4 D4 B2', 'C#5 E4 B2', 'E4 B5 C#5', 'B4 F#4 E4', 'B4 D2 G5', 'G#3 G#2 C5', 'F#3 B2 E5', 'B3 A5 B2', 'C#5 G#5 C#3', 'C4 A1', 'A3 E4 C3', 'B4 D5 F#3', 'G4 G3 B5', 'D5 G2 E4', 'E4 E2 C5', 'B4 E3 E4', 'A5 C6', 'C5 F#5', 'A3 F#4 A4', 'D4 G#4 B2', 'G#3 C5', 'G3 B5 G5', 'D3 E5 F#5', 'C4 F2 G#5', 'D4 A2 F#4', 'G4 E4 C4', 'E3 A4', 'D4 B3 B1', 'B4 E5 F#3', 'D3 C4 F#4', 'C2 F#4', 'E1 F3', 'B4 D5 B3', 'F4 G3 B5', 'F2 A3', 'B4 G4 B3', 'B1 D5 G4', 'B4 B2', 'C#4 E6 E4', 'C#5 E3 C#3', 'B4 E4 A4', 'D2 C4 F#4', 'G4 C3', 'C4 C2 E3', 'D5 B3 C5', 'E3 A4 E5', 'B4 G#5 F4', 'C3 G5 B5', 'F#3 B3 C#5', 'B3 C#5 F3', 'C3 A5 C5', 'C#4 C3 B2', 'F#3 D4 F#4', 'G4 C6', 'G#4 E2', 'A3 B3 C#3', 'D6 F5 B5', 'G#3 F4 F3', 'E3 C#4 B3', 'D4 C#5 E4', 'A2 E3 C#3', 'G#3 F5 F4', 'F4 F1 A4', 'G4 C#6 E5', 'G#3 E4 A4', 'E5 A3 C#3', 'D5 F4 F3', 'C4 E6', 'E5 F#4', 'F3 B4 B2', 'G4 G2 F5', 'G2 G3 C5', 'G4 E3 F#4', 'D2 A3 F4', 'B4 E4 C3', 'F4 B3 A4', 'D5 D3 F4', 'C3 E5', 'B4 G3 A5', 'A4 E5 F#5', 'E3 C#4 E4', 'C3', 'E6 C6 E5', 'D3 G4 B3', 'E3 E2 G5', 'G#2 E4 C5', 'C4 G2 F4', 'E3 C4 E4', 'G3 A3 G5', 'D4 A5', 'G3 B3', 'B3 C#5 B2', 'D5 G4 A2', 'G4 A2 E4', 'D5 B5', 'E5 F5 C6', 'F#3 E4', 'E5 C#4 C#3', 'G#3 G#4', 'F5 F3 F4', 'G#2 B3 F4', 'D2 D3 C5', 'G4 B3 E3', 'D3 F#4', 'D3 G3', 'G5 E4 C5', 'E4 A5 G5', 'A4 C#4 G5', 'D5 G#2', 'E5 A5 C4', 'G4 A4 F#3', 'D5 B3 E2', 'E5 E4 B2', 'A4 F#3 D4', 'F3 F5 B5', 'C4 G3 E4', 'G4 B2 B5', 'G3 F5 D4', 'D6 B3', 'E3 E5 E4', 'G4 D3 E5', 'F#2 F4', 'D5 E6 C3', 'G#4 E3 C5', 'D3 F5 C5', 'G3 A5', 'D5 G2', 'F#3 G4 E4', 'D3 C3 F#5', 'F#2 C4 C3', 'D3 C4 A4', 'D5 E4 A3', 'B4 G#4 C#3', 'F#4 E4 A4', 'E5 B3 F#5', 'D5 C#5 A4', 'C#6 A3 F#4', 'G4 E3 E2', 'B4 G3 B2', 'F#3 B2', 'G4 E5 E3', 'D5 F5 B2', 'G#4 D5 C5', 'G4 A4', 'E5 B3 A2', 'D5 A2 A4', 'G#3 B5', 'D4', 'G4 E5 C#5', 'G#5 C#3', 'E5 G3 C5', 'E2 G4 F5', 'G3 D4 B5', 'D5 C#5 C#3', 'G4 E5 B4', 'G2 C#5 A4', 'D5 D4 F#2', 'B4 E4 C5', 'D3 F5 C6', 'E3 C6 B5', 'D2 G4 A3', 'B4 E2 F#4', 'F5 G#5 C4', 'G#3 F4', 'D5 G4 C5', 'D2 D3 A5', 'F#2 E5 A4', 'B4 G1 D4', 'F1 F4', 'E4 A2 A3', 'B4 B3 E5', 'G4 G3 C5', 'D5 G2 G3', 'G3 B5 E4', 'C#4 D4 E4', 'G#3 D5 F4', 'G4 C4 E4', 'F5 G2', 'G4 B3 G3', 'G2 E2', 'G#3 F#4', 'C4 A2 F#5', 'D4 C#3 A3', 'F2 A5', 'D5 G5 F3', 'G3 D4 C3', 'F#2 D5 A3', 'F#5 B2 A4', 'D5 G3 E2', 'C2 E4 B3', 'C#4 C#5 F#4', 'B5 A3 F#4', 'F#3 F#2 D4', 'B4 D5 D3', 'B4 G3 F#4', 'F5 D4 B3', 'B4 G4 G6', 'F2 F5 G#4', 'C4 G1 A3', 'F5 A3 F4', 'E4 G#4 C#3', 'A2 F#5', 'D5 G#4 A4', 'D5 G4 E2', 'D4 E4 A4', 'E4 B3 C5', 'C4 G5 A4', 'D4 F3', 'F#4 F#2 C#4', 'E4 B3 G5', 'E5 F5 B3', 'D3 F#3', 'B4 F#2 A5', 'C#5', 'B4 G3 E3', 'B5 C5 E4', 'D5 D4 C5', 'B4 A3 E2', 'F5 B3 F4', 'D5 F5 D4', 'F#3 E5', 'E3 C5 G5', 'C4 G3 C2', 'G4 E3 B3', 'G3 E4 C5', 'C#4 F#3 A4', 'G3 E2 C5', 'D5 G#4 F4', 'D5 F#4 A4', 'B3 A3 F#4', 'C#4 F#5 A2', 'C#6', 'C2 C6', 'G#3 E4', 'D3 B3 A5', 'G4', 'F#5', 'F3 G4 C5', 'B4 G#4 B4', 'A5 C6 F#5', 'A2 A4 C#4', 'F#3 A4 D4', 'G#4 F1 F4', 'F#3 D6 D4', 'G4 B5 C#4', 'G1 B3 G5', 'G3 F5 B3', 'E6 G3 E4', 'F3 E5 A5', 'A5 C3', 'B3 E3 E3', 'D5 B3 B5', 'A2 C5 E5', 'E4 B2 C#5', 'D5 C5 F#4', 'G#3 C#4', 'G4 G3 E3', 'E5 E3 G5', 'G#4 B5 C5', 'E4 A2 B2', 'F4 G5', 'D5 F2', 'D6 A5 B5', 'C#5 E4', 'D2 D4 F#5', 'D5 F#5', 'C4 D4 F#5', 'E4 G5 B5', 'C5 C6', 'C#5 C#3 B5', 'E5 B3 E5', 'C4 F3 C5', 'E5 C#5 A3', 'B4 D3 G#4', 'G4 C#4 A4', 'B4 C4 G5', 'C5 A5', 'G3 G5 D3', 'F#5 A4 A5', 'D3 D4', 'B4 D5 D4', 'D3 E5 C5', 'F#2 B5', 'G3 C5 A5', 'B3 G#5 F4', 'C3 G5', 'G4 F5 B3', 'E5 B2 F#5', 'E4 A4', 'B4 G4 F#3', 'B4 D5 A5', 'C#3', 'A4 B5', 'F#2 C#4 A5', 'B4 E5 B3', 'D2 D3 A3', 'B4 F#3 C3', 'E2 E3 G5', 'E2 F#4', 'G4 C2 C5', 'C5 A3 F4', 'F5 E4 A4', 'G#4 G#3 D4', 'G5 F#4', 'B4 E4 A2', 'C5 A3', 'D2 C6', 'B2 F4 G#3', 'C#4 D4 E3', 'F5 G#4', 'A3 F#5', 'F5 C6', 'G4 G3 E4', 'E4 C2 A4', 'G4 G3 B3', 'F#3 F#4 E5', 'G4 D4 E3', 'D5 A3 A2', 'D3 D4 A5', 'C#3 F4', 'D5 E5 G2', 'A4 F#3 C3', 'D5 B3 G#4', 'G#3 C6 F4', 'G4 B3 A4', 'B4 G2 B5', 'D3 F#2', 'G#4 C5', 'F#4 E4 C5', 'E3 C6', 'C4 B3 G5', 'E5 E6 C4', 'B3 B2 F4', 'D6 B3 A3', 'B4 D3 G2', 'G1 B3 C5', 'G3 E3 A5', 'E3 G4 E4', 'G#4 F2 C5', 'C4 E3 A3', 'G#3 D3 B4', 'B3 G5', 'D2 G4 F#4', 'B4 A4 D2', 'G#3 F5 C5', 'D5 E5 A2', 'C3 C4 A5', 'D4 F#5 B5', 'D5 E5 G3', 'C#6 A3 A4', 'E5 F3 A3', 'G4 C4 B4', 'D3 D5 F4', 'D5 G1 B3', 'E5 E2 A4', 'B4 D3 F#5', 'B4 E5 G#3', 'C4', 'E4 C#5 G5', 'E5 G4 G2', 'G4 E2 F#5', 'D6 A5', 'B4', 'B4 F#2', 'D3 A5 F4', 'G4 F4 F1', 'F#3 D5 D4', 'G#3 C4 F5', 'C4 G2 C2', 'G4 C2 E5', 'D5 B2 B2', 'F#2 E4 C3', 'C#4 C#5 E4', 'F5 A2', 'D4 C3 F#5', 'B4 B5', 'B4 F#3 A4', 'A4 E3 G5', 'G3 G5', 'C3 A5', 'D2 F5 G#5', 'G#3 C4', 'D4 G#4', 'A3 F#4 F4', 'G4 G1', 'B4 G#2 G#3', 'E4 C2 C6', 'B1 F5 D4', 'D5 B2 A4', 'F5 A2 E4', 'D4 B2', 'G#5', 'G#4 F3 F1', 'B4 C4 E3', 'E3 C#5 E4', 'G4 D4 G3', 'D3 B3 B5', 'F#3 D3 E4', 'F5 C#5 A3', 'E4 B2 G#5', 'C3 C4 G#4', 'D1 F#3 A4', 'B4 C6', 'D3 G4 F2', 'E5 C4 A2', 'C4 E3 C5', 'G3 E2 B3', 'D5 G3 B2', 'A4 F3 F4', 'D5 D4 C#5', 'F5 C5 A4', 'G3 F#3 F#5', 'G4 A5 G5', 'G2 E4 F4', 'B5 E4', 'G4 F#5', 'D5 G4 E3', 'D5 F#4 F4', 'G4 F4 B3', 'C4 B5', 'A2 C5 C6', 'F#3 B3 B2', 'F4 C5 F3', 'D5 G3 D3', 'C3 C6 G5', 'E4 A5 C5', 'E3 E4 G5', 'G#4 E3 E4', 'C4 B3 E5', 'A1 A4', 'D5 F3 A4', 'F3 C#3', 'C#5 G#5', 'C4 C5 C3', 'C#5 A2 A3', 'G3 A5 C5', 'C5 A4 D3', 'D2', 'C#4 G#5', 'E5', 'D3 F4 C5', 'C#4 F#5 A4', 'E3 C#5 A4', 'D2 B3 F#4', 'E5 E3 F#5', 'D2 A5 C5', 'G3 E4 G2', 'G5 E2', 'D3 B3 E4', 'C#4 F#3 F3', 'B4 D3 C#4', 'D5 A3 E4', 'G#3', 'C4 A3 F#4', 'B4 F#3 F#4', 'C5 A2 F4', 'G1 D4 B3', 'B3 A5 G5', 'F3 C5 C6', 'F5 C#5 C#2', 'F5 G#3 C5', 'D3 G4 C5', 'E5 C6', 'E5 F5 C3', 'E5 G5', 'F#2 C#4 F4', 'F3 C3 A4', 'C4 G2 E5', 'F5 G4 D4', 'C4 E4 F3', 'D3 D4 G5', 'F#3 E3 A4', 'C#4 A4', 'B4 A3 F4', 'E5 E4 C#3', 'F3 G#4', 'E3 C#3 A4', 'C4 D4 B3', 'B4 E4 B2'}\n"
     ]
    }
   ],
   "source": [
    "print(set(y))"
   ]
  },
  {
   "cell_type": "code",
   "execution_count": null,
   "metadata": {},
   "outputs": [],
   "source": []
  }
 ],
 "metadata": {
  "kernelspec": {
   "display_name": "Python 3",
   "language": "python",
   "name": "python3"
  },
  "language_info": {
   "codemirror_mode": {
    "name": "ipython",
    "version": 3
   },
   "file_extension": ".py",
   "mimetype": "text/x-python",
   "name": "python",
   "nbconvert_exporter": "python",
   "pygments_lexer": "ipython3",
   "version": "3.6.8"
  }
 },
 "nbformat": 4,
 "nbformat_minor": 2
}
