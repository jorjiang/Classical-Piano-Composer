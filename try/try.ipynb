{
 "cells": [
  {
   "cell_type": "code",
   "execution_count": 1,
   "metadata": {},
   "outputs": [],
   "source": [
    "import glob\n",
    "from tqdm import tqdm\n",
    "import pickle"
   ]
  },
  {
   "cell_type": "code",
   "execution_count": 37,
   "metadata": {},
   "outputs": [
    {
     "name": "stdout",
     "output_type": "stream",
     "text": [
      "../midi_songs_bc/cs6-3cou.mid\n",
      "../midi_songs_bc/cs1-4sar.mid\n",
      "../midi_songs_bc/vs2-3and.mid\n",
      "../midi_songs_bc/bwv772.mid\n",
      "../midi_songs_bc/bwv867.mid\n",
      "../midi_songs_bc/vp2-2cou.mid\n",
      "../midi_songs_bc/bwv846.mid\n",
      "../midi_songs_bc/vp3-5bou.mid\n",
      "../midi_songs_bc/bwv816.mid\n",
      "../midi_songs_bc/bwv773.mid\n",
      "../midi_songs_bc/vp2-5cha.mid\n",
      "../midi_songs_bc/vp1-3co.mid\n",
      "../midi_songs_bc/vp3-4min.mid\n",
      "../midi_songs_bc/cs1-1pre.mid\n",
      "../midi_songs_bc/vs3-1ada.mid\n",
      "../midi_songs_bc/300jsb1004b.mid\n",
      "../midi_songs_bc/bwv879.mid\n",
      "../midi_songs_bc/bwv911.mid\n",
      "../midi_songs_bc/bwv805.mid\n",
      "../midi_songs_bc/bwv880.mid\n",
      "../midi_songs_bc/vp3-1pre.mid\n",
      "../midi_songs_bc/1694tpinven3.mid\n",
      "../midi_songs_bc/1693tpinven2.mid\n",
      "../midi_songs_bc/cs6-4sar.mid\n",
      "../midi_songs_bc/vp1-5sa.mid\n",
      "../midi_songs_bc/bwv894.mid\n",
      "../midi_songs_bc/bwv844.mid\n",
      "../midi_songs_bc/vp2-1all.mid\n",
      "../midi_songs_bc/1701tpinven10.mid\n",
      "../midi_songs_bc/bwv870.mid\n",
      "../midi_songs_bc/cs5-5gav.mid\n",
      "../midi_songs_bc/cs3-5bou.mid\n",
      "../midi_songs_bc/bwv802.mid\n",
      "../midi_songs_bc/bwv859.mid\n",
      "../midi_songs_bc/348baw101f.mid\n",
      "../midi_songs_bc/1704tpinven13.mid\n",
      "../midi_songs_bc/bwv815.mid\n",
      "../midi_songs_bc/bwv966.mid\n",
      "../midi_songs_bc/150.mid\n",
      "../midi_songs_bc/bwv849.mid\n",
      "../midi_songs_bc/lttlef.mid\n",
      "../midi_songs_bc/bwv850.mid\n",
      "../midi_songs_bc/bwv866.mid\n",
      "../midi_songs_bc/cs3-2all.mid\n",
      "../midi_songs_bc/cs4-6gig.mid\n",
      "../midi_songs_bc/vp3-2lou.mid\n",
      "../midi_songs_bc/299jsb0910.mid\n",
      "../midi_songs_bc/cs1-5men.mid\n",
      "../midi_songs_bc/bwv992.mid\n",
      "../midi_songs_bc/bwv783.mid\n",
      "../midi_songs_bc/bwv785.mid\n",
      "../midi_songs_bc/cs4-1pre.mid\n",
      "../midi_songs_bc/bwv875.mid\n",
      "../midi_songs_bc/bwv975.mid\n",
      "../midi_songs_bc/cs2-2all.mid\n",
      "../midi_songs_bc/bwv797.mid\n",
      "../midi_songs_bc/bwv830.mid\n",
      "../midi_songs_bc/cs4-3cou.mid\n",
      "../midi_songs_bc/bwv864.mid\n",
      "../midi_songs_bc/bwv854.mid\n",
      "../midi_songs_bc/bwv810.mid\n",
      "../midi_songs_bc/bwv873.mid\n",
      "../midi_songs_bc/bwv808.mid\n",
      "../midi_songs_bc/bwv874.mid\n",
      "../midi_songs_bc/bwv820.mid\n",
      "../midi_songs_bc/bwv779.mid\n",
      "../midi_songs_bc/112.mid\n",
      "../midi_songs_bc/vs3-2fug.mid\n",
      "../midi_songs_bc/bwv778.mid\n",
      "../midi_songs_bc/cs4-4sar.mid\n"
     ]
    }
   ],
   "source": [
    "from music21 import converter, instrument, note, chord\n",
    "notes = []\n",
    "for file in glob.glob(\"../midi_songs_bc/*.mid\")[:100]:\n",
    "    midi = converter.parse(file)\n",
    "    notes_to_parse = None\n",
    "    parts = instrument.partitionByInstrument(midi)\n",
    "    if parts:\n",
    "        if len(parts)==1: # file has instrument parts\n",
    "            notes_to_parse = parts.parts[0].recurse()\n",
    "            print(file)\n",
    "    else: # file has notes in a flat structure\n",
    "        notes_to_parse = midi.flat.notes\n",
    "    if notes_to_parse is not None:\n",
    "        for element in notes_to_parse:\n",
    "            if isinstance(element, note.Note):\n",
    "                notes.append(str(element.pitch))\n",
    "            elif isinstance(element, chord.Chord):\n",
    "                notes.append('.'.join(str(n) for n in element.normalOrder))"
   ]
  },
  {
   "cell_type": "code",
   "execution_count": 39,
   "metadata": {},
   "outputs": [],
   "source": [
    "with open('../data/notes_bach', 'wb') as filepath:\n",
    "    pickle.dump(notes, filepath)"
   ]
  },
  {
   "cell_type": "code",
   "execution_count": 8,
   "metadata": {},
   "outputs": [],
   "source": [
    "with open('data/notes', 'rb') as filepath:\n",
    "    y = pickle.load(filepath)"
   ]
  },
  {
   "cell_type": "code",
   "execution_count": 5,
   "metadata": {},
   "outputs": [],
   "source": [
    "import os"
   ]
  },
  {
   "cell_type": "code",
   "execution_count": 6,
   "metadata": {},
   "outputs": [],
   "source": [
    "os.chdir('/code/dl/Classical-Piano-Composer/')"
   ]
  },
  {
   "cell_type": "code",
   "execution_count": 7,
   "metadata": {},
   "outputs": [
    {
     "name": "stderr",
     "output_type": "stream",
     "text": [
      "Using TensorFlow backend.\n"
     ]
    }
   ],
   "source": [
    "from predict import create_midi"
   ]
  },
  {
   "cell_type": "code",
   "execution_count": 9,
   "metadata": {},
   "outputs": [],
   "source": [
    "create_midi(y[10000:11000])"
   ]
  },
  {
   "cell_type": "code",
   "execution_count": null,
   "metadata": {},
   "outputs": [],
   "source": []
  }
 ],
 "metadata": {
  "kernelspec": {
   "display_name": "Python 3",
   "language": "python",
   "name": "python3"
  },
  "language_info": {
   "codemirror_mode": {
    "name": "ipython",
    "version": 3
   },
   "file_extension": ".py",
   "mimetype": "text/x-python",
   "name": "python",
   "nbconvert_exporter": "python",
   "pygments_lexer": "ipython3",
   "version": "3.6.8"
  }
 },
 "nbformat": 4,
 "nbformat_minor": 2
}
