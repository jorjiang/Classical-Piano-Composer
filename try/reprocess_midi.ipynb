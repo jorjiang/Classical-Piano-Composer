{
 "cells": [
  {
   "cell_type": "code",
   "execution_count": 1,
   "metadata": {},
   "outputs": [
    {
     "name": "stderr",
     "output_type": "stream",
     "text": [
      "Using TensorFlow backend.\n"
     ]
    }
   ],
   "source": [
    "import glob\n",
    "import pickle\n",
    "import numpy as np\n",
    "from music21 import converter, instrument, note, chord, stream\n",
    "from keras.models import Sequential\n",
    "from keras.layers import Dense\n",
    "from keras.layers import Dropout\n",
    "from keras.layers import LSTM\n",
    "from keras.layers import Activation\n",
    "from keras.models import load_model\n",
    "from keras.utils import np_utils\n",
    "from keras.callbacks import ModelCheckpoint\n",
    "from fractions import Fraction\n",
    "import numpy as np\n",
    "import datetime\n",
    "from sklearn.preprocessing import MultiLabelBinarizer"
   ]
  },
  {
   "cell_type": "code",
   "execution_count": null,
   "metadata": {},
   "outputs": [],
   "source": [
    "notes = []\n",
    "\n",
    "midi_data = converter.parse('../vivaldi/RV_580_Concerto_for_four_violins_Op._3._No._10_-_Antonio_Vivaldi.mid')\n",
    "\n",
    "ss = midi_data.flat\n",
    "\n",
    "parsed_notes = ss.getElementsByClass(['Chord', 'Note'])\n",
    "off_sets = [note.offset for note in parsed_notes]\n",
    "\n",
    "note_dict = {}\n",
    "\n",
    "for note in parsed_notes:\n",
    "    offset = note.offset\n",
    "    if isinstance(offset, Fraction):\n",
    "            offset = numpy.round(float(offset),2)\n",
    "    if note.offset in note_dict:\n",
    "        if not note.isChord:\n",
    "            note_dict[offset].append(note.nameWithOctave.replace('-', ''))\n",
    "        else:\n",
    "            note_dict[offset].extend([p.nameWithOctave.replace('-', '') for p in note.pitches])\n",
    "    else:\n",
    "        if not note.isChord:\n",
    "            note_dict[offset] = [note.nameWithOctave.replace('-', '')]\n",
    "        else:\n",
    "            note_dict[offset] = [p.nameWithOctave.replace('-', '') for p in note.pitches]\n",
    "\n",
    "\n",
    "for offset in note_dict:\n",
    "    note_dict[offset] = list(set(note_dict[offset]))\n",
    "\n",
    "values = note_dict.values()\n",
    "\n",
    "values = [v for v in values]\n",
    "\n",
    "all_uni_values = set([vv for v in values for vv in v ])\n",
    "\n",
    "voc_len = len(all_uni_values)\n",
    "\n",
    "\n",
    "\n",
    "mb = MultiLabelBinarizer()\n",
    "\n",
    "all_values_binary = mb.fit_transform(values)\n",
    "\n",
    "all_values_binary"
   ]
  },
  {
   "cell_type": "code",
   "execution_count": null,
   "metadata": {},
   "outputs": [],
   "source": [
    "sequence_length = 32\n",
    "network_input = []\n",
    "network_output = []\n",
    "\n",
    "for i in range(0, all_values_binary.shape[0] - sequence_length, 1):\n",
    "    sequence_in = all_values_binary[i:i + sequence_length]\n",
    "    sequence_out = all_values_binary[i + sequence_length]\n",
    "    network_input.append(sequence_in)\n",
    "    network_output.append(sequence_out)\n",
    "\n",
    "network_input = np.array(network_input)\n",
    "network_output = np.array(network_output)\n",
    "\n",
    "network_input.shape"
   ]
  },
  {
   "cell_type": "code",
   "execution_count": 2,
   "metadata": {},
   "outputs": [],
   "source": [
    "def get_notes():\n",
    "    \"\"\" Get all the notes and chords from the midi files in the ./midi_songs directory \"\"\"\n",
    "    parsed_notes = []\n",
    "\n",
    "    for file in np.random.choice(glob.glob(\"/code/dl/Classical-Piano-Composer/midi_songs_bc/*.mid\"), 3):\n",
    "        midi_data = converter.parse(file)\n",
    "\n",
    "        print(\"Parsing %s\" % file)\n",
    "\n",
    "        ss = midi_data.flat\n",
    "\n",
    "        notes = ss.getElementsByClass(['Chord', 'Note'])\n",
    "        parsed_notes.extend(notes)\n",
    "        \n",
    "    off_sets = [note.offset for note in parsed_notes]\n",
    "\n",
    "    note_dict = {}\n",
    "\n",
    "    for note in parsed_notes:\n",
    "        offset = note.offset\n",
    "        if isinstance(offset, Fraction):\n",
    "                offset = np.round(float(offset),2)\n",
    "        if note.offset in note_dict:\n",
    "            if not note.isChord:\n",
    "                note_dict[offset].append(note.nameWithOctave.replace('-', ''))\n",
    "            else:\n",
    "                note_dict[offset].extend([p.nameWithOctave.replace('-', '') for p in note.pitches])\n",
    "        else:\n",
    "            if not note.isChord:\n",
    "                note_dict[offset] = [note.nameWithOctave.replace('-', '')]\n",
    "            else:\n",
    "                note_dict[offset] = [p.nameWithOctave.replace('-', '') for p in note.pitches]\n",
    "\n",
    "\n",
    "    for offset in note_dict:\n",
    "        note_dict[offset] = list(set(note_dict[offset]))\n",
    "\n",
    "    values = [v for v in note_dict.values()]\n",
    "    \n",
    "    mb = MultiLabelBinarizer()\n",
    "    all_values_binary = mb.fit_transform(values)\n",
    "    \n",
    "    return all_values_binary"
   ]
  },
  {
   "cell_type": "code",
   "execution_count": 3,
   "metadata": {},
   "outputs": [],
   "source": [
    "def prepare_sequences(notes):\n",
    "    \"\"\" Prepare the sequences used by the Neural Network \"\"\"\n",
    "    sequence_length = 32\n",
    "    network_input = []\n",
    "    network_output = []\n",
    "\n",
    "    for i in range(0, notes.shape[0] - sequence_length, 1):\n",
    "        sequence_in = notes[i:i + sequence_length]\n",
    "        sequence_out = notes[i + sequence_length]\n",
    "        network_input.append(sequence_in)\n",
    "        network_output.append(sequence_out)\n",
    "\n",
    "    network_input = np.array(network_input)\n",
    "    network_output = np.array(network_output)\n",
    "\n",
    "    network_input.shape\n",
    "\n",
    "    return (network_input, network_output)"
   ]
  },
  {
   "cell_type": "code",
   "execution_count": 6,
   "metadata": {},
   "outputs": [
    {
     "name": "stdout",
     "output_type": "stream",
     "text": [
      "Parsing /code/dl/Classical-Piano-Composer/midi_songs_bc/1688tpvent11w.mid\n",
      "Parsing /code/dl/Classical-Piano-Composer/midi_songs_bc/109.mid\n",
      "Parsing /code/dl/Classical-Piano-Composer/midi_songs_bc/bwv863.mid\n"
     ]
    }
   ],
   "source": [
    "notes = get_notes()"
   ]
  },
  {
   "cell_type": "code",
   "execution_count": 7,
   "metadata": {},
   "outputs": [],
   "source": [
    "inputs, outputs = prepare_sequences(notes[:60])"
   ]
  },
  {
   "cell_type": "code",
   "execution_count": 8,
   "metadata": {},
   "outputs": [
    {
     "data": {
      "text/plain": [
       "1292"
      ]
     },
     "execution_count": 8,
     "metadata": {},
     "output_type": "execute_result"
    }
   ],
   "source": [
    "len(notes)"
   ]
  },
  {
   "cell_type": "code",
   "execution_count": 9,
   "metadata": {},
   "outputs": [
    {
     "data": {
      "text/plain": [
       "(28, 32, 41)"
      ]
     },
     "execution_count": 9,
     "metadata": {},
     "output_type": "execute_result"
    }
   ],
   "source": [
    "inputs.shape"
   ]
  },
  {
   "cell_type": "code",
   "execution_count": 2,
   "metadata": {},
   "outputs": [],
   "source": [
    "from keras.models import Sequential\n",
    "from keras.layers import Dense\n",
    "from keras.layers import Dropout\n",
    "from keras.layers import LSTM\n",
    "from keras.layers import Activation"
   ]
  },
  {
   "cell_type": "code",
   "execution_count": 3,
   "metadata": {},
   "outputs": [],
   "source": [
    "with open('../data/training_data_bach', 'rb') as filepath:\n",
    "    training_data = pickle.load(filepath)\n",
    "\n",
    "notes = training_data['data']\n",
    "mb = training_data['binarizer']"
   ]
  },
  {
   "cell_type": "code",
   "execution_count": 4,
   "metadata": {},
   "outputs": [],
   "source": [
    "def create_network(network_input):\n",
    "    \"\"\" create the structure of the neural network \"\"\"\n",
    "    model = Sequential()\n",
    "    model.add(LSTM(\n",
    "        512,\n",
    "        input_shape=(network_input.shape[1], network_input.shape[2]),\n",
    "        return_sequences=True\n",
    "    ))\n",
    "    model.add(Dropout(0.2))\n",
    "    model.add(LSTM(512, return_sequences=True))\n",
    "    model.add(Dropout(0.2))\n",
    "    model.add(LSTM(512))\n",
    "    model.add(Dense(256))\n",
    "    model.add(Dropout(0.2))\n",
    "    model.add(Dense(network_input.shape[2]))\n",
    "    model.add(Activation('softmax'))\n",
    "    model.compile(loss='categorical_crossentropy', optimizer='rmsprop')\n",
    "\n",
    "    # Load the weights to each node\n",
    "    model.load_weights('../weights-improvement-18-4.0270-bigger.hdf5')\n",
    "\n",
    "    return model\n",
    "def prepare_sequences(notes):\n",
    "    \"\"\" Prepare the sequences used by the Neural Network \"\"\"\n",
    "    sequence_length = 32\n",
    "    network_input = []\n",
    "    network_output = []\n",
    "\n",
    "    for i in range(0, notes.shape[0] - sequence_length, 1):\n",
    "        sequence_in = notes[i:i + sequence_length]\n",
    "        sequence_out = notes[i + sequence_length]\n",
    "        network_input.append(sequence_in)\n",
    "\n",
    "    network_input = np.array(network_input)\n",
    "\n",
    "    return network_input"
   ]
  },
  {
   "cell_type": "code",
   "execution_count": 5,
   "metadata": {},
   "outputs": [],
   "source": [
    "network_input = prepare_sequences(notes)"
   ]
  },
  {
   "cell_type": "code",
   "execution_count": 7,
   "metadata": {},
   "outputs": [
    {
     "data": {
      "text/plain": [
       "(4371, 32, 44)"
      ]
     },
     "execution_count": 7,
     "metadata": {},
     "output_type": "execute_result"
    }
   ],
   "source": [
    "network_input.shape"
   ]
  },
  {
   "cell_type": "code",
   "execution_count": 6,
   "metadata": {},
   "outputs": [],
   "source": [
    "trained_model = create_network(network_input)"
   ]
  },
  {
   "cell_type": "code",
   "execution_count": 8,
   "metadata": {},
   "outputs": [],
   "source": [
    "prediction_input = network_input[np.random.choice(network_input.shape[0], 1)]\n",
    "prediction_output = []"
   ]
  },
  {
   "cell_type": "code",
   "execution_count": null,
   "metadata": {},
   "outputs": [],
   "source": []
  },
  {
   "cell_type": "code",
   "execution_count": 9,
   "metadata": {},
   "outputs": [
    {
     "data": {
      "text/plain": [
       "(1, 32, 44)"
      ]
     },
     "execution_count": 9,
     "metadata": {},
     "output_type": "execute_result"
    }
   ],
   "source": [
    "prediction_input.shape"
   ]
  },
  {
   "cell_type": "code",
   "execution_count": 9,
   "metadata": {},
   "outputs": [],
   "source": [
    "preds = trained_model.predict(prediction_input, verbose=0)[0]"
   ]
  },
  {
   "cell_type": "code",
   "execution_count": 10,
   "metadata": {},
   "outputs": [
    {
     "data": {
      "text/plain": [
       "array([1.90299731e-02, 1.59154751e-03, 1.12180889e-03, 3.67573411e-05,\n",
       "       2.31967526e-04, 3.50651927e-02, 3.22064292e-03, 2.46833148e-03,\n",
       "       1.22735102e-04, 1.29600347e-04, 2.37741560e-01, 1.27875982e-02,\n",
       "       5.20595175e-04, 1.69276912e-03, 4.68761176e-02, 1.30007695e-03,\n",
       "       1.54581328e-04, 1.02198726e-04, 1.59299094e-03, 3.95373791e-01,\n",
       "       2.84828674e-02, 7.13372603e-04, 2.90823460e-04, 3.20669152e-02,\n",
       "       4.24156040e-02, 1.45901518e-04, 3.71609858e-05, 1.90490298e-02,\n",
       "       4.40639667e-02, 9.70331457e-05, 7.05256884e-04, 1.75256543e-02,\n",
       "       1.33914845e-02, 6.91401001e-05, 3.09503812e-04, 3.13718757e-03,\n",
       "       1.91972984e-04, 1.77080964e-03, 2.51668844e-05, 4.32203320e-04,\n",
       "       1.58819207e-03, 2.75267977e-02, 4.69529862e-03, 1.07774045e-04],\n",
       "      dtype=float32)"
      ]
     },
     "execution_count": 10,
     "metadata": {},
     "output_type": "execute_result"
    }
   ],
   "source": [
    "preds"
   ]
  },
  {
   "cell_type": "code",
   "execution_count": 11,
   "metadata": {},
   "outputs": [],
   "source": [
    "def get_top_p(preds):\n",
    "    selected_i = []\n",
    "    descend_sorted_index = np.argsort(preds)[::-1]\n",
    "    preds_descend_sorted = sorted(preds, reverse=True)\n",
    "    for i, pred in enumerate(preds_descend_sorted):\n",
    "        print(descend_sorted_index[i], pred)\n",
    "        if i==0:\n",
    "            selected_i.append(descend_sorted_index[i])\n",
    "        else:\n",
    "            if preds_descend_sorted[i]/preds_descend_sorted[0] > 0.3:\n",
    "\n",
    "                selected_i.append(descend_sorted_index[i])\n",
    "            else:\n",
    "                return selected_i"
   ]
  },
  {
   "cell_type": "code",
   "execution_count": 12,
   "metadata": {},
   "outputs": [
    {
     "data": {
      "text/plain": [
       "array(['A2', 'A3', 'A4', 'A5', 'B1', 'B2', 'B3', 'B4', 'B5', 'C#2', 'C#3',\n",
       "       'C#4', 'C#5', 'C2', 'C3', 'C4', 'C5', 'C6', 'D2', 'D3', 'D4', 'D5',\n",
       "       'E2', 'E3', 'E4', 'E5', 'F#2', 'F#3', 'F#4', 'F#5', 'F2', 'F3',\n",
       "       'F4', 'F5', 'G#1', 'G#2', 'G#3', 'G#4', 'G#5', 'G1', 'G2', 'G3',\n",
       "       'G4', 'G5'], dtype=object)"
      ]
     },
     "execution_count": 12,
     "metadata": {},
     "output_type": "execute_result"
    }
   ],
   "source": [
    "mb.classes_"
   ]
  },
  {
   "cell_type": "code",
   "execution_count": 13,
   "metadata": {},
   "outputs": [
    {
     "name": "stdout",
     "output_type": "stream",
     "text": [
      "19 0.3953738\n",
      "10 0.23774156\n",
      "14 0.046876118\n"
     ]
    },
    {
     "data": {
      "text/plain": [
       "[19, 10]"
      ]
     },
     "execution_count": 13,
     "metadata": {},
     "output_type": "execute_result"
    }
   ],
   "source": [
    "get_top_p(preds)"
   ]
  },
  {
   "cell_type": "code",
   "execution_count": 17,
   "metadata": {},
   "outputs": [
    {
     "name": "stdout",
     "output_type": "stream",
     "text": [
      "19 0.3953738\n",
      "10 0.23774156\n",
      "14 0.046876118\n",
      "19 0.3953738\n",
      "10 0.23774156\n",
      "14 0.046876118\n",
      "19 0.3953738\n",
      "10 0.23774156\n",
      "14 0.046876118\n",
      "19 0.3953738\n",
      "10 0.23774156\n",
      "14 0.046876118\n",
      "19 0.3953738\n",
      "10 0.23774156\n",
      "14 0.046876118\n"
     ]
    }
   ],
   "source": [
    "# generate 500 notes\n",
    "prediction_output = []\n",
    "for note_index in range(5):\n",
    "    \n",
    "    pred_prob = trained_model.predict(np.array(prediction_input), verbose=0)[0]\n",
    "    pred_index = get_top_p(pred_prob)\n",
    "    prediction = mb.classes_[pred_index]\n",
    "    \n",
    "    prediction_output.append(prediction)\n",
    "\n",
    "prediction_output = np.array(prediction_output)[1:].tolist()"
   ]
  },
  {
   "cell_type": "code",
   "execution_count": 20,
   "metadata": {},
   "outputs": [
    {
     "data": {
      "text/plain": [
       "[['D3', 'C#3'], ['D3', 'C#3'], ['D3', 'C#3'], ['D3', 'C#3']]"
      ]
     },
     "execution_count": 20,
     "metadata": {},
     "output_type": "execute_result"
    }
   ],
   "source": [
    "prediction_output"
   ]
  },
  {
   "cell_type": "code",
   "execution_count": 24,
   "metadata": {},
   "outputs": [],
   "source": [
    "def create_midi(prediction_output):\n",
    "    \"\"\" convert the output from the prediction to notes and create a midi file\n",
    "        from the notes \"\"\"\n",
    "    offset = 0\n",
    "    output_notes = []\n",
    "\n",
    "    # create note and chord objects based on the values generated by the model\n",
    "    for pattern in prediction_output:\n",
    "        note = chord.Chord(pattern)\n",
    "        note.offset = offset\n",
    "        output_notes.append(note)\n",
    "\n",
    "        # increase offset each iteration so that notes do not stack\n",
    "        offset += 0.5\n",
    "\n",
    "    midi_stream = stream.Stream(output_notes)\n",
    "    filename = 'out_{}.mid'.format(datetime.datetime.today().strftime('%Y-%m-%d-%H-%M-%S'))\n",
    "    midi_stream.write('midi', fp=filename)"
   ]
  },
  {
   "cell_type": "code",
   "execution_count": 28,
   "metadata": {},
   "outputs": [],
   "source": [
    "create_midi(prediction_output)"
   ]
  },
  {
   "cell_type": "code",
   "execution_count": null,
   "metadata": {},
   "outputs": [],
   "source": []
  }
 ],
 "metadata": {
  "kernelspec": {
   "display_name": "Python 3",
   "language": "python",
   "name": "python3"
  },
  "language_info": {
   "codemirror_mode": {
    "name": "ipython",
    "version": 3
   },
   "file_extension": ".py",
   "mimetype": "text/x-python",
   "name": "python",
   "nbconvert_exporter": "python",
   "pygments_lexer": "ipython3",
   "version": "3.6.8"
  }
 },
 "nbformat": 4,
 "nbformat_minor": 2
}
